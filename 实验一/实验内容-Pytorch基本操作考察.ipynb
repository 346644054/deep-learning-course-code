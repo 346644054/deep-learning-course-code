{
 "cells": [
  {
   "cell_type": "markdown",
   "metadata": {},
   "source": [
    "1. **使用Tensor初始化一个1×3的矩阵M和一个2×1的矩阵N，对两矩阵进行减法操作（要求实现三种不同的形式），给出结果并分析三种方式的不同（如果出现报错，分析报错的原因），同时需要指出在计算过程中发生了什么**"
   ]
  },
  {
   "cell_type": "code",
   "execution_count": 22,
   "metadata": {},
   "outputs": [
    {
     "name": "stdout",
     "output_type": "stream",
     "text": [
      "tensor([[9, 0, 4]])\n",
      "tensor([[5],\n",
      "        [7]])\n"
     ]
    }
   ],
   "source": [
    "# 初始化矩阵M和矩阵N\n",
    "import torch\n",
    "M = torch.randint(10,(1,3))\n",
    "N = torch.randint(10,(2,1))\n",
    "\n",
    "print(M)\n",
    "print(N)"
   ]
  },
  {
   "cell_type": "code",
   "execution_count": 38,
   "metadata": {},
   "outputs": [
    {
     "name": "stdout",
     "output_type": "stream",
     "text": [
      "tensor([[ 4, -5, -1],\n",
      "        [ 2, -7, -3]])\n",
      "tensor([[ 4, -5, -1],\n",
      "        [ 2, -7, -3]])\n",
      "tensor([[ 4, -5, -1],\n",
      "        [ 2, -7, -3]])\n"
     ]
    },
    {
     "data": {
      "text/plain": [
       "'三种方式都引发了tensor的广播机制，因为M,N的维度不相同，所以N被广播成([[5,0,0],[7,0,0]])后，M的对应元素与广播后的N的对应元素相减'"
      ]
     },
     "execution_count": 38,
     "metadata": {},
     "output_type": "execute_result"
    }
   ],
   "source": [
    "# 方式一：torch.sub(M,N)\n",
    "print(torch.sub(M,N))\n",
    "\n",
    "# 方式二：M - N\n",
    "print(M-N)\n",
    "\n",
    "# 方式三：M.sub(N)\n",
    "print(M.sub(N))\n",
    "\n",
    "\"\"\"三种方式都引发了tensor的广播机制，因为M,N的维度不相同，所以N被广播成([[5,0,0],[7,0,0]])后，M的对应元素与广播后的N的对应元素相减\"\"\""
   ]
  },
  {
   "cell_type": "markdown",
   "metadata": {},
   "source": [
    "2. ** 利用Tensor创建两个大小分别3×2和4×2的随机数矩阵P和Q，要求服从均值为0，标准差0.01为的正态分布；**"
   ]
  },
  {
   "cell_type": "code",
   "execution_count": 46,
   "metadata": {},
   "outputs": [
    {
     "name": "stdout",
     "output_type": "stream",
     "text": [
      "tensor([[-0.0025, -0.0093],\n",
      "        [-0.0051, -0.0005],\n",
      "        [ 0.0136, -0.0216]])\n",
      "tensor([[ 0.0048, -0.0015],\n",
      "        [-0.0185,  0.0161],\n",
      "        [ 0.0027,  0.0143],\n",
      "        [-0.0027,  0.0117]])\n"
     ]
    }
   ],
   "source": [
    "P = torch.normal(mean=0,std=0.01+torch.zeros(3,2))\n",
    "Q = torch.normal(mean=0,std=0.01+torch.zeros(4,2))\n",
    "\n",
    "print(P)\n",
    "print(Q)"
   ]
  },
  {
   "cell_type": "markdown",
   "metadata": {},
   "source": [
    "** 对第二步得到的矩阵Q进行形状变换得到Q的转置Q.T；**"
   ]
  },
  {
   "cell_type": "code",
   "execution_count": 47,
   "metadata": {},
   "outputs": [],
   "source": [
    "Q_transpose = Q.T"
   ]
  },
  {
   "cell_type": "markdown",
   "metadata": {},
   "source": [
    "**对上述得到的矩阵P和矩阵Q.T求内积**"
   ]
  },
  {
   "cell_type": "code",
   "execution_count": 49,
   "metadata": {},
   "outputs": [
    {
     "name": "stdout",
     "output_type": "stream",
     "text": [
      "tensor([[ 1.7650e-06, -1.0462e-04, -1.3989e-04, -1.0230e-04],\n",
      "        [-2.4035e-05,  8.7279e-05, -2.1064e-05,  7.8902e-06],\n",
      "        [ 9.7090e-05, -6.0015e-04, -2.7147e-04, -2.8831e-04]])\n"
     ]
    }
   ],
   "source": [
    "print(P.mm(Q_transpose))"
   ]
  },
  {
   "cell_type": "markdown",
   "metadata": {},
   "source": [
    "**3.给定公式y3 = y1 + y2 = x^2 + x^3，且x = 1。利用学习得到的Tensor的相关知识，求y3对的梯度x，即dy3/dx。**  \n",
    "**要求在计算过程中，在计算x^3时中断梯度的追踪，观察结果并进行原因分析**"
   ]
  },
  {
   "cell_type": "code",
   "execution_count": 51,
   "metadata": {},
   "outputs": [
    {
     "name": "stdout",
     "output_type": "stream",
     "text": [
      "tensor(2.)\n"
     ]
    }
   ],
   "source": [
    "x = torch.tensor(1.0, requires_grad=True)\n",
    "y1 = x ** 2 \n",
    "with torch.no_grad():\n",
    "    y2 = x ** 3\n",
    "y3 = y1 + y2\n",
    "\n",
    "y3.backward()\n",
    "print(x.grad)"
   ]
  }
 ],
 "metadata": {
  "kernelspec": {
   "display_name": "Python 3",
   "language": "python",
   "name": "python3"
  },
  "language_info": {
   "codemirror_mode": {
    "name": "ipython",
    "version": 3
   },
   "file_extension": ".py",
   "mimetype": "text/x-python",
   "name": "python",
   "nbconvert_exporter": "python",
   "pygments_lexer": "ipython3",
   "version": "3.6.5"
  }
 },
 "nbformat": 4,
 "nbformat_minor": 2
}
