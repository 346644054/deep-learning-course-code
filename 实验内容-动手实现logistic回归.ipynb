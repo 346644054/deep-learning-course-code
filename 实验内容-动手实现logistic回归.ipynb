{
 "cells": [
  {
   "cell_type": "markdown",
   "metadata": {},
   "source": [
    "### <font color=\"#0000dd\"> **1.要求动手从0实现logistic回归（只借助Tensor和Numpy相关的库）在人工构造的数据集上进行训练和测试，并从loss、训练集以及测试集上的准确率等多个角度对结果进行分析。**</font><br />"
   ]
  },
  {
   "cell_type": "code",
   "execution_count": 34,
   "metadata": {},
   "outputs": [],
   "source": [
    "import torch\n",
    "import numpy as np\n",
    "import random"
   ]
  },
  {
   "cell_type": "markdown",
   "metadata": {},
   "source": [
    "#### 生成数据"
   ]
  },
  {
   "cell_type": "code",
   "execution_count": 38,
   "metadata": {},
   "outputs": [],
   "source": [
    "num_inputs = 2\n",
    "n_data = torch.ones(100,2) #数据的基本形态\n",
    "\n",
    "# 训练集\n",
    "x1 = torch.normal(2*n_data,1)\n",
    "y1 = torch.zeros(100)\n",
    "x2 = torch.normal(-2*n_data,1)\n",
    "y2 = torch.ones(100)\n",
    "\n",
    "x_train = torch.cat((x1,x2),0).type(torch.FloatTensor)\n",
    "y_train = torch.cat((y1,y2),0).type(torch.FloatTensor)\n",
    "y_train = y_train.view(-1,1)\n",
    "\n",
    "# 测试集\n",
    "x1 = torch.normal(2*n_data,1)\n",
    "y1 = torch.zeros(20)\n",
    "x2 = torch.normal(-2*n_data,1)\n",
    "y2 = torch.ones(20)\n",
    "\n",
    "x_test = torch.cat((x1,x2),0).type(torch.FloatTensor)\n",
    "y_test = torch.cat((y1,y2),0).type(torch.FloatTensor)\n",
    "y_test = y_test.view(-1,1)"
   ]
  },
  {
   "cell_type": "markdown",
   "metadata": {},
   "source": [
    "#### 读取数据"
   ]
  },
  {
   "cell_type": "code",
   "execution_count": 44,
   "metadata": {},
   "outputs": [],
   "source": [
    "def data_iter(batch_size,features,labels):\n",
    "    num_examples = len(features)\n",
    "    indices = list(range(num_examples))\n",
    "    random.shuffle(indices) #样本的读取顺序是随机的\n",
    "    for i in range(0,num_examples,batch_size):\n",
    "        j = torch.LongTensor(indices[i:min(i+batch_size,num_examples)])# 最后一次可能不足一个batch\n",
    "        yield features.index_select(0,j),labels.index_select(0,j)"
   ]
  },
  {
   "cell_type": "markdown",
   "metadata": {},
   "source": [
    "#### 构建模型"
   ]
  },
  {
   "cell_type": "markdown",
   "metadata": {},
   "source": [
    "* 初始化模型参数   "
   ]
  },
  {
   "cell_type": "code",
   "execution_count": 69,
   "metadata": {},
   "outputs": [],
   "source": [
    "# 将权重初始化成均值为0、标准差为0.01的正态随机数，偏置初始化为0.\n",
    "w = torch.tensor(np.random.normal(0,0.01,(num_inputs,1)),dtype=torch.float32)\n",
    "b = torch.zeros(1,dtype=torch.float32)"
   ]
  },
  {
   "cell_type": "code",
   "execution_count": 70,
   "metadata": {},
   "outputs": [
    {
     "data": {
      "text/plain": [
       "tensor([0.], requires_grad=True)"
      ]
     },
     "execution_count": 70,
     "metadata": {},
     "output_type": "execute_result"
    }
   ],
   "source": [
    "# 设置梯度传递\n",
    "w.requires_grad_(requires_grad=True)\n",
    "b.requires_grad_(requires_grad=True)"
   ]
  },
  {
   "cell_type": "markdown",
   "metadata": {},
   "source": [
    "* 定义模型 "
   ]
  },
  {
   "cell_type": "code",
   "execution_count": 28,
   "metadata": {},
   "outputs": [],
   "source": [
    "def sigmoid(input_x):\n",
    "    return 1/(1+torch.exp(-input_x))\n",
    "\n",
    "def logistic_reg(X,w,b):\n",
    "    return sigmoid(torch.mm(X,w)+b)"
   ]
  },
  {
   "cell_type": "markdown",
   "metadata": {},
   "source": [
    "#### 定义损失函数和优化算法"
   ]
  },
  {
   "cell_type": "markdown",
   "metadata": {},
   "source": [
    "* 二元交叉熵损失函数"
   ]
  },
  {
   "cell_type": "code",
   "execution_count": 29,
   "metadata": {},
   "outputs": [],
   "source": [
    "def BCE_loss(y_pre,y_truth):\n",
    "    return y_truth*(-torch.log(y_pre))+(1-y_truth)*(-torch.log(1-y_pre))"
   ]
  },
  {
   "cell_type": "markdown",
   "metadata": {},
   "source": [
    "* 优化方法\n",
    "随机梯度下降(SGD)"
   ]
  },
  {
   "cell_type": "code",
   "execution_count": 30,
   "metadata": {},
   "outputs": [],
   "source": [
    "def sgd(params,lr,batch_size):\n",
    "    for param in params:\n",
    "        param.data -= lr*param.grad/batch_size"
   ]
  },
  {
   "cell_type": "markdown",
   "metadata": {},
   "source": [
    "#### 模型评估"
   ]
  },
  {
   "cell_type": "code",
   "execution_count": 46,
   "metadata": {},
   "outputs": [],
   "source": [
    "# 对样本进行预测\n",
    "def predict(X,w,b,net):\n",
    "    m = X.shape[0]\n",
    "    Y_prediction = torch.zeros((m,1))\n",
    "\n",
    "    A = net(X,w,b)\n",
    "    for  i in range(m):\n",
    "        if A[i,0]>0.5:\n",
    "            Y_prediction[i,0] = 1\n",
    "        else:\n",
    "            Y_prediction[i,0] = 0\n",
    "\n",
    "    return Y_prediction"
   ]
  },
  {
   "cell_type": "code",
   "execution_count": 65,
   "metadata": {},
   "outputs": [],
   "source": [
    "# 定义准确率\n",
    "def acc(y_pre,y_truth):\n",
    "    return 1 - (torch.abs(y_pre - y_truth)).sum()/y_pre.shape[0]"
   ]
  },
  {
   "cell_type": "markdown",
   "metadata": {},
   "source": [
    "#### 模型训练"
   ]
  },
  {
   "cell_type": "code",
   "execution_count": 71,
   "metadata": {},
   "outputs": [
    {
     "name": "stdout",
     "output_type": "stream",
     "text": [
      "epoch 1,loss 0.363748,acc 1.000000\n",
      "epoch 2,loss 0.245102,acc 1.000000\n",
      "epoch 3,loss 0.188412,acc 1.000000\n",
      "epoch 4,loss 0.155413,acc 1.000000\n",
      "epoch 5,loss 0.133784,acc 1.000000\n",
      "epoch 6,loss 0.118467,acc 1.000000\n",
      "epoch 7,loss 0.107002,acc 1.000000\n",
      "epoch 8,loss 0.098089,acc 1.000000\n",
      "epoch 9,loss 0.090931,acc 1.000000\n",
      "epoch 10,loss 0.085046,acc 1.000000\n"
     ]
    }
   ],
   "source": [
    "lr = 0.03\n",
    "num_epochs = 10\n",
    "net = logistic_reg\n",
    "loss = BCE_loss\n",
    "batch_size = 100\n",
    "train_loss = []\n",
    "train_acc = []\n",
    "for epoch in range(num_epochs):\n",
    "    for X,y in data_iter(batch_size,x_train,y_train):\n",
    "        y_pre = predict(X,w,b,net) \n",
    "        l = loss(net(X,w,b),y).sum()\n",
    "        l.backward()\n",
    "        sgd([w,b],lr,batch_size)\n",
    "        w.grad.data.zero_()\n",
    "        b.grad.data.zero_() \n",
    "    train_l = loss(net(x_train,w,b),y_train)\n",
    "    y_pre = predict(x_train,w,b,net)\n",
    "    accuracy = acc(y_pre,y_train)\n",
    "    train_loss.append(train_l.mean().item())\n",
    "    train_acc.append(accuracy)\n",
    "    print('epoch %d,loss %f,acc %f'%(epoch+1,train_l.mean().item(),accuracy))"
   ]
  },
  {
   "cell_type": "code",
   "execution_count": 72,
   "metadata": {},
   "outputs": [
    {
     "data": {
      "image/png": "[encoded data removed]",
      "text/plain": [
       "<Figure size 432x288 with 2 Axes>"
      ]
     },
     "metadata": {},
     "output_type": "display_data"
    }
   ],
   "source": [
    "import matplotlib.pyplot as plt\n",
    "from pylab import mpl\n",
    "%matplotlib inline\n",
    "mpl.rcParams['font.sans-serif'] = ['SimHei'] # 指定默认字体\n",
    "mpl.rcParams['axes.unicode_minus'] = False # 解决保存图像是负号'-'显示为方块的问题\n",
    "\n",
    "plt.subplot(1,2,1)\n",
    "plt.plot(range(10),train_loss,'r.-')\n",
    "plt.title('train loss')\n",
    "plt.subplot(1,2,2)\n",
    "plt.plot(range(10),train_acc,'b.-')\n",
    "plt.title('train accuracy')\n",
    "plt.suptitle('从0实现logistc回归')\n",
    "plt.savefig('log_0_loss_acc.jpg')"
   ]
  },
  {
   "cell_type": "markdown",
   "metadata": {},
   "source": [
    "#### 模型测试"
   ]
  },
  {
   "cell_type": "code",
   "execution_count": 13,
   "metadata": {},
   "outputs": [
    {
     "name": "stdout",
     "output_type": "stream",
     "text": [
      "loss 0.068510,acc 1.000000\n"
     ]
    }
   ],
   "source": [
    "test_l = loss(net(x_test,w,b),y_test)\n",
    "y_pre = predict(x_test,w,b,net)\n",
    "accuracy = acc(y_pre,y_test)\n",
    "    \n",
    "print('loss %f,acc %f'%(test_l.mean().item(),accuracy))"
   ]
  },
  {
   "cell_type": "markdown",
   "metadata": {},
   "source": [
    "### <font color=\"#0000dd\"> **2.利用torch.nn实现logistic回归在人工构建的数据集上进行训练和测试，并对结果进行分析，并从loss、训练集以及测试集上的准确率等多个角度对结果进行分析**</font><br />"
   ]
  },
  {
   "cell_type": "code",
   "execution_count": 77,
   "metadata": {},
   "outputs": [],
   "source": [
    "import torch\n",
    "import torch.nn as nn\n",
    "import torch.utils.data as Data\n",
    "from torch.nn import init\n",
    "import torch.optim as optim"
   ]
  },
  {
   "cell_type": "markdown",
   "metadata": {},
   "source": [
    "**读取数据**"
   ]
  },
  {
   "cell_type": "code",
   "execution_count": 78,
   "metadata": {},
   "outputs": [],
   "source": [
    "batch_size = 20\n",
    "lr = 0.03\n",
    "# 将训练数据的特征和标签组合\n",
    "dataset = Data.TensorDataset(x_train,y_train)\n",
    "\n",
    "# 把dataset放入DataLoader\n",
    "data_iter = Data.DataLoader(\n",
    "            dataset = dataset,\n",
    "            batch_size = batch_size,\n",
    "            shuffle = True)"
   ]
  },
  {
   "cell_type": "markdown",
   "metadata": {},
   "source": [
    "**构建模型**"
   ]
  },
  {
   "cell_type": "markdown",
   "metadata": {},
   "source": [
    "* 定义模型"
   ]
  },
  {
   "cell_type": "code",
   "execution_count": 79,
   "metadata": {},
   "outputs": [],
   "source": [
    "class LogisticReg(nn.Module):\n",
    "    def __init__(self,n_feature):\n",
    "        super(LogisticReg,self).__init__()\n",
    "        self.lr=nn.Linear(n_feature,1)  \n",
    "        self.sm=nn.Sigmoid()   \n",
    "\n",
    "    def forward(self, x):\n",
    "        x=self.lr(x)\n",
    "        x=self.sm(x)\n",
    "        return x"
   ]
  },
  {
   "cell_type": "markdown",
   "metadata": {},
   "source": [
    "* 模型参数初始化"
   ]
  },
  {
   "cell_type": "code",
   "execution_count": 80,
   "metadata": {},
   "outputs": [
    {
     "data": {
      "text/plain": [
       "Parameter containing:\n",
       "tensor([0.], requires_grad=True)"
      ]
     },
     "execution_count": 80,
     "metadata": {},
     "output_type": "execute_result"
    }
   ],
   "source": [
    "n_feature = 2\n",
    "net=LogisticReg(n_feature)\n",
    "\n",
    "init.normal_(net.lr.weight,mean=0,std=0.01)\n",
    "init.constant_(net.lr.bias,val=0) "
   ]
  },
  {
   "cell_type": "markdown",
   "metadata": {},
   "source": [
    "**定义损失函数和优化器**"
   ]
  },
  {
   "cell_type": "code",
   "execution_count": 81,
   "metadata": {},
   "outputs": [],
   "source": [
    "loss = nn.BCELoss()"
   ]
  },
  {
   "cell_type": "code",
   "execution_count": 82,
   "metadata": {},
   "outputs": [],
   "source": [
    "optimizer = optim.SGD(net.parameters(),lr=0.03)"
   ]
  },
  {
   "cell_type": "markdown",
   "metadata": {},
   "source": [
    "**模型评估**"
   ]
  },
  {
   "cell_type": "code",
   "execution_count": 83,
   "metadata": {},
   "outputs": [],
   "source": [
    "def predict_nn(X,net):\n",
    "    m = X.shape[0]\n",
    "    Y_prediction = torch.zeros((m,1))\n",
    "\n",
    "    A = net(X)\n",
    "    for  i in range(m):\n",
    "        if A[i,0]>0.5:\n",
    "            Y_prediction[i,0] = 1\n",
    "        else:\n",
    "            Y_prediction[i,0] = 0\n",
    "\n",
    "    return Y_prediction"
   ]
  },
  {
   "cell_type": "markdown",
   "metadata": {},
   "source": [
    "**模型训练**"
   ]
  },
  {
   "cell_type": "code",
   "execution_count": 84,
   "metadata": {},
   "outputs": [
    {
     "name": "stdout",
     "output_type": "stream",
     "text": [
      "epoch 1,loss: 0.369617，acc: 1.000000\n",
      "epoch 2,loss: 0.230318，acc: 1.000000\n",
      "epoch 3,loss: 0.167326，acc: 1.000000\n",
      "epoch 4,loss: 0.184061，acc: 1.000000\n",
      "epoch 5,loss: 0.144097，acc: 1.000000\n",
      "epoch 6,loss: 0.123772，acc: 1.000000\n",
      "epoch 7,loss: 0.100006，acc: 1.000000\n",
      "epoch 8,loss: 0.112854，acc: 1.000000\n",
      "epoch 9,loss: 0.076705，acc: 1.000000\n",
      "epoch 10,loss: 0.120481，acc: 1.000000\n"
     ]
    }
   ],
   "source": [
    "num_epochs = 10\n",
    "train_loss=[]\n",
    "train_acc=[]\n",
    "for epoch in range(1,num_epochs+1):\n",
    "    for X,y in data_iter:\n",
    "        output = net(X)\n",
    "        l = loss(output,y.view(-1,1))\n",
    "        optimizer.zero_grad()\n",
    "        l.backward()\n",
    "        optimizer.step()\n",
    "    y_pre = predict_nn(x_train,net)\n",
    "    accuracy = acc(y_pre,y_train)\n",
    "    train_loss.append(l.item())\n",
    "    train_acc.append(accuracy)\n",
    "    print('epoch %d,loss: %f，acc: %f'%(epoch,l.item(),accuracy))"
   ]
  },
  {
   "cell_type": "code",
   "execution_count": 85,
   "metadata": {},
   "outputs": [
    {
     "data": {
      "image/png": "[encoded data removed]",
      "text/plain": [
       "<Figure size 432x288 with 2 Axes>"
      ]
     },
     "metadata": {},
     "output_type": "display_data"
    }
   ],
   "source": [
    "plt.subplot(1,2,1)\n",
    "plt.plot(range(10),train_loss,'r.-')\n",
    "plt.title('train loss')\n",
    "plt.subplot(1,2,2)\n",
    "plt.plot(range(10),train_acc,'b.-')\n",
    "plt.title('train accuracy')\n",
    "plt.suptitle('torch.nn实现logistc回归')\n",
    "plt.savefig('log_loss_acc.jpg')"
   ]
  },
  {
   "cell_type": "markdown",
   "metadata": {},
   "source": [
    "**模型测试**"
   ]
  },
  {
   "cell_type": "code",
   "execution_count": 86,
   "metadata": {},
   "outputs": [
    {
     "name": "stdout",
     "output_type": "stream",
     "text": [
      "tensor(0.0621, grad_fn=<BinaryCrossEntropyBackward>) tensor(1.)\n"
     ]
    }
   ],
   "source": [
    "l = loss(net(x_test),y_test.view(-1,1))\n",
    "y_pre = predict_nn(x_test,net)\n",
    "accuracy = acc(y_pre,y_test)\n",
    "print(l,accuracy)"
   ]
  }
 ],
 "metadata": {
  "kernelspec": {
   "display_name": "Python 3",
   "language": "python",
   "name": "python3"
  },
  "language_info": {
   "codemirror_mode": {
    "name": "ipython",
    "version": 3
   },
   "file_extension": ".py",
   "mimetype": "text/x-python",
   "name": "python",
   "nbconvert_exporter": "python",
   "pygments_lexer": "ipython3",
   "version": "3.6.5"
  }
 },
 "nbformat": 4,
 "nbformat_minor": 2
}
