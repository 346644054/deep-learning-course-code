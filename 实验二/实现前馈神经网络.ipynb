{
 "cells": [
  {
   "cell_type": "markdown",
   "metadata": {},
   "source": [
    "* 手动实现前馈神经网络"
   ]
  },
  {
   "cell_type": "markdown",
   "metadata": {},
   "source": [
    "**数据集介绍**"
   ]
  },
  {
   "cell_type": "markdown",
   "metadata": {},
   "source": [
    "Fashion-MNIST数据集下载"
   ]
  },
  {
   "cell_type": "code",
   "execution_count": 1,
   "metadata": {},
   "outputs": [],
   "source": [
    "import torch\n",
    "import torchvision\n",
    "import torchvision.transforms as transforms\n",
    "import numpy as np\n",
    "import torch.nn as nn"
   ]
  },
  {
   "cell_type": "code",
   "execution_count": 2,
   "metadata": {},
   "outputs": [],
   "source": [
    "mnist_train = torchvision.datasets.FashionMNIST(root='~\\Datasets\\FashionMNIST',train=True,download=True,transform=transforms.ToTensor())\n",
    "mnist_test = torchvision.datasets.FashionMNIST(root='~\\Datasets\\FashionMNIST',train=False,download=True,transform=transforms.ToTensor())"
   ]
  },
  {
   "cell_type": "markdown",
   "metadata": {},
   "source": [
    "批量读取数据"
   ]
  },
  {
   "cell_type": "code",
   "execution_count": 3,
   "metadata": {},
   "outputs": [],
   "source": [
    "batch_size = 64\n",
    "train_iter = torch.utils.data.DataLoader(mnist_train,batch_size = batch_size,shuffle = True,num_workers=0)\n",
    "test_iter = torch.utils.data.DataLoader(mnist_test,batch_size,shuffle=False,num_workers=0)"
   ]
  },
  {
   "cell_type": "markdown",
   "metadata": {},
   "source": [
    "**模型设计**"
   ]
  },
  {
   "cell_type": "markdown",
   "metadata": {},
   "source": [
    "模型参数定义及初始化"
   ]
  },
  {
   "cell_type": "code",
   "execution_count": 4,
   "metadata": {},
   "outputs": [],
   "source": [
    "##定义模型参数\n",
    "num_inputs, num_outputs, num_hiddens = 784, 10, 256\n",
    "\n",
    "W1 = torch.tensor(np.random.normal(0, 0.01, (num_inputs, num_hiddens)), dtype=torch.float)\n",
    "b1 = torch.zeros(num_hiddens, dtype = torch.float)\n",
    "W2 = torch.tensor(np.random.normal(0, 0.01, (num_hiddens, num_outputs)), dtype=torch.float)\n",
    "b2 = torch.zeros(num_outputs,dtype=torch.float)\n",
    "\n",
    "params = [W1,b1,W2,b2]\n",
    "for param in params:\n",
    "    param.requires_grad_(requires_grad=True)"
   ]
  },
  {
   "cell_type": "markdown",
   "metadata": {},
   "source": [
    "定义激活函数 （ReLU）"
   ]
  },
  {
   "cell_type": "code",
   "execution_count": 5,
   "metadata": {},
   "outputs": [],
   "source": [
    "def relu(X):\n",
    "    return torch.max(input=X, other=torch.tensor(0.0))"
   ]
  },
  {
   "cell_type": "markdown",
   "metadata": {},
   "source": [
    "定义softmax函数"
   ]
  },
  {
   "cell_type": "code",
   "execution_count": 6,
   "metadata": {},
   "outputs": [],
   "source": [
    "def softmax(X):\n",
    "    X_exp = X.exp()\n",
    "    partiton = X_exp.sum(dim=1, keepdim=True)\n",
    "    return X_exp / partiton"
   ]
  },
  {
   "cell_type": "markdown",
   "metadata": {},
   "source": [
    "定义交叉熵损失函数"
   ]
  },
  {
   "cell_type": "code",
   "execution_count": 7,
   "metadata": {},
   "outputs": [],
   "source": [
    "loss = torch.nn.CrossEntropyLoss()"
   ]
  },
  {
   "cell_type": "markdown",
   "metadata": {},
   "source": [
    "定义模型"
   ]
  },
  {
   "cell_type": "code",
   "execution_count": 8,
   "metadata": {},
   "outputs": [],
   "source": [
    "def net(X,W1,b1,W2,b2):\n",
    "    X = X.view((-1, num_inputs))\n",
    "    H = relu(torch.matmul(X, W1) + b1)\n",
    "    return softmax(torch.matmul(H, W2) + b2)"
   ]
  },
  {
   "cell_type": "markdown",
   "metadata": {},
   "source": [
    "定义随机梯度下降函数"
   ]
  },
  {
   "cell_type": "code",
   "execution_count": 9,
   "metadata": {},
   "outputs": [],
   "source": [
    "def SGD(params,lr):\n",
    "    for param in params:\n",
    "        param.data -= lr * param.grad"
   ]
  },
  {
   "cell_type": "markdown",
   "metadata": {},
   "source": [
    "计算分类准确率"
   ]
  },
  {
   "cell_type": "code",
   "execution_count": 10,
   "metadata": {},
   "outputs": [],
   "source": [
    "def accuracy(y_hat, y):\n",
    "    return (y_hat.argmax(dim = 1)==y).float().mean().item()"
   ]
  },
  {
   "cell_type": "markdown",
   "metadata": {},
   "source": [
    "计算模型在某个数据集上的准确率"
   ]
  },
  {
   "cell_type": "code",
   "execution_count": 11,
   "metadata": {},
   "outputs": [],
   "source": [
    "def evaluate_accuracy(data_iter, net):\n",
    "    acc_sum, n = 0.0, 0\n",
    "    for X, y in data_iter:\n",
    "        acc_sum += (net(X,W1,b1,W2,b2).argmax(dim=1)==y).float().sum().item()\n",
    "        n += y.shape[0]\n",
    "    return acc_sum/n"
   ]
  },
  {
   "cell_type": "markdown",
   "metadata": {},
   "source": [
    "定义模型训练函数"
   ]
  },
  {
   "cell_type": "code",
   "execution_count": 12,
   "metadata": {},
   "outputs": [],
   "source": [
    "def train(net, train_iter, test_iter, loss, num_epochs, batch_size, params = None, lr=None, optimizer=None):\n",
    "    for epoch in range(num_epochs):\n",
    "        train_l_sum, train_acc_sum, n = 0.0, 0.0, 0\n",
    "        for X, y in train_iter:\n",
    "            y_hat = net(X,W1,b1,W2,b2)\n",
    "            l = loss(y_hat, y).sum()\n",
    "            if optimizer is not None:\n",
    "                optimizer.zero_grad()\n",
    "            elif params is not None and params[0].grad is not None:\n",
    "                for param in params:\n",
    "                    param.grad.data.zero_()\n",
    "            l.backward()\n",
    "            if optimizer is None:\n",
    "                SGD(params,lr)\n",
    "            else:\n",
    "                optimizer.step()\n",
    "            train_l_sum += l.item()\n",
    "            train_acc_sum += (y_hat.argmax(dim=1)==y).sum().item()\n",
    "            n += y.shape[0]\n",
    "        test_acc = evaluate_accuracy(test_iter, net)\n",
    "        print('epoch %d, loss %.4f, train_acc %.3f, test_acc %.3f'\n",
    "              %(epoch + 1, train_l_sum/n, train_acc_sum/n, test_acc))"
   ]
  },
  {
   "cell_type": "markdown",
   "metadata": {},
   "source": [
    "训练模型"
   ]
  },
  {
   "cell_type": "code",
   "execution_count": 13,
   "metadata": {},
   "outputs": [
    {
     "name": "stdout",
     "output_type": "stream",
     "text": [
      "epoch 1, loss 0.0309, train_acc 0.544, test_acc 0.707\n",
      "epoch 2, loss 0.0270, train_acc 0.763, test_acc 0.776\n",
      "epoch 3, loss 0.0263, train_acc 0.790, test_acc 0.790\n",
      "epoch 4, loss 0.0261, train_acc 0.799, test_acc 0.798\n",
      "epoch 5, loss 0.0260, train_acc 0.805, test_acc 0.798\n"
     ]
    }
   ],
   "source": [
    "num_epochs = 5\n",
    "lr = 0.1\n",
    "train(net, train_iter, test_iter, loss, num_epochs, batch_size, params, lr)"
   ]
  },
  {
   "cell_type": "markdown",
   "metadata": {},
   "source": [
    "* Torch.nn实现前馈神经网络"
   ]
  },
  {
   "cell_type": "markdown",
   "metadata": {},
   "source": [
    "实现FlattenLayer层"
   ]
  },
  {
   "cell_type": "code",
   "execution_count": 14,
   "metadata": {},
   "outputs": [],
   "source": [
    "class FlattenLayer(torch.nn.Module):\n",
    "    def __init__(self):\n",
    "        super(FlattenLayer,self).__init__()\n",
    "    def forward(self,x):\n",
    "        return x.view(x.shape[0],-1)"
   ]
  },
  {
   "cell_type": "markdown",
   "metadata": {},
   "source": [
    "模型定义和参数初始化"
   ]
  },
  {
   "cell_type": "code",
   "execution_count": 15,
   "metadata": {},
   "outputs": [],
   "source": [
    "num_inputs, num_output, num_hidens  = 784, 10, 256\n",
    "\n",
    "net = nn.Sequential(\n",
    "        FlattenLayer(),\n",
    "        nn.Linear(num_inputs, num_hiddens),\n",
    "        nn.ReLU(),\n",
    "        nn.Linear(num_hiddens, num_outputs),\n",
    "        )\n",
    "\n",
    "for params in net.parameters():\n",
    "    nn.init.normal_(params, mean=0, std=0.01)"
   ]
  },
  {
   "cell_type": "markdown",
   "metadata": {},
   "source": [
    "计算模型在某个数据集上的准确率和loss"
   ]
  },
  {
   "cell_type": "code",
   "execution_count": 16,
   "metadata": {},
   "outputs": [],
   "source": [
    "def evaluate_accuracy(data_iter, net, loss):\n",
    "    acc_sum, n = 0.0, 0 \n",
    "    test_l_sum = 0.0\n",
    "    for X, y in data_iter:\n",
    "        acc_sum += (net(X).argmax(dim=1)==y).float().sum().item()\n",
    "        l = loss(net(X), y).sum()\n",
    "        test_l_sum += l.item()\n",
    "        n += y.shape[0]\n",
    "    return acc_sum / n,test_l_sum/n"
   ]
  },
  {
   "cell_type": "markdown",
   "metadata": {},
   "source": [
    "设置训练轮次、学习率、损失函数和优化器"
   ]
  },
  {
   "cell_type": "code",
   "execution_count": 17,
   "metadata": {},
   "outputs": [],
   "source": [
    "num_epochs = 25\n",
    "lr = 0.01\n",
    "loss = torch.nn.CrossEntropyLoss()\n",
    "optimizer = torch.optim.SGD(net.parameters(), lr)"
   ]
  },
  {
   "cell_type": "markdown",
   "metadata": {},
   "source": [
    "模型训练，保存训练集和验证集的loss"
   ]
  },
  {
   "cell_type": "code",
   "execution_count": 18,
   "metadata": {},
   "outputs": [],
   "source": [
    "def train(net,train_iter,test_iter,loss,num_epochs,batch_size,params=None,lr=None,optimizer=None):\n",
    "    train_loss=[]\n",
    "    test_loss=[]\n",
    "    for epoch in range(num_epochs):\n",
    "        train_l_sum, train_acc_sum, n = 0.0, 0.0, 0\n",
    "        for X, y in train_iter:\n",
    "            y_hat = net(X)\n",
    "            l = loss(y_hat,y).sum()\n",
    "            if optimizer is not None:\n",
    "                optimizer.zero_grad()\n",
    "            elif params is not None and params[0].grad is not None:\n",
    "                for param in params:\n",
    "                    param.grad.data.zero_()\n",
    "            l.backward()\n",
    "            if optimizer is None:\n",
    "                SGD(params, lr)\n",
    "            else:\n",
    "                optimizer.step()\n",
    "            train_l_sum += l.item()\n",
    "            train_acc_sum += (y_hat.argmax(dim=1)==y).sum().item()\n",
    "            n += y.shape[0]\n",
    "        test_acc,test_l = evaluate_accuracy(test_iter,net,loss)\n",
    "        train_loss.append(train_l_sum/n)\n",
    "        test_loss.append(test_l)\n",
    "        print('epoch %d, loss %.4f, train acc %.3f, test acc %.3f'\n",
    "              %(epoch+1, train_l_sum/n, train_acc_sum / n, test_acc))\n",
    "    return train_loss,test_loss"
   ]
  },
  {
   "cell_type": "markdown",
   "metadata": {},
   "source": [
    "训练结果和loss曲线绘制"
   ]
  },
  {
   "cell_type": "code",
   "execution_count": 19,
   "metadata": {},
   "outputs": [
    {
     "name": "stdout",
     "output_type": "stream",
     "text": [
      "epoch 1, loss 0.0225, train acc 0.555, test acc 0.653\n",
      "epoch 2, loss 0.0120, train acc 0.720, test acc 0.744\n",
      "epoch 3, loss 0.0100, train acc 0.778, test acc 0.783\n",
      "epoch 4, loss 0.0090, train acc 0.805, test acc 0.799\n",
      "epoch 5, loss 0.0083, train acc 0.820, test acc 0.809\n",
      "epoch 6, loss 0.0079, train acc 0.828, test acc 0.817\n",
      "epoch 7, loss 0.0076, train acc 0.833, test acc 0.823\n",
      "epoch 8, loss 0.0074, train acc 0.837, test acc 0.825\n",
      "epoch 9, loss 0.0072, train acc 0.840, test acc 0.828\n",
      "epoch 10, loss 0.0071, train acc 0.844, test acc 0.826\n",
      "epoch 11, loss 0.0069, train acc 0.847, test acc 0.834\n",
      "epoch 12, loss 0.0068, train acc 0.849, test acc 0.833\n",
      "epoch 13, loss 0.0067, train acc 0.851, test acc 0.837\n",
      "epoch 14, loss 0.0066, train acc 0.854, test acc 0.822\n",
      "epoch 15, loss 0.0065, train acc 0.855, test acc 0.836\n",
      "epoch 16, loss 0.0065, train acc 0.857, test acc 0.842\n",
      "epoch 17, loss 0.0064, train acc 0.858, test acc 0.841\n",
      "epoch 18, loss 0.0063, train acc 0.861, test acc 0.844\n",
      "epoch 19, loss 0.0062, train acc 0.862, test acc 0.846\n",
      "epoch 20, loss 0.0062, train acc 0.864, test acc 0.844\n",
      "epoch 21, loss 0.0061, train acc 0.865, test acc 0.850\n",
      "epoch 22, loss 0.0060, train acc 0.866, test acc 0.849\n",
      "epoch 23, loss 0.0060, train acc 0.867, test acc 0.848\n",
      "epoch 24, loss 0.0059, train acc 0.870, test acc 0.850\n",
      "epoch 25, loss 0.0059, train acc 0.869, test acc 0.851\n"
     ]
    }
   ],
   "source": [
    "train_loss, test_loss = train(net,train_iter,test_iter,loss,num_epochs,batch_size,net.parameters(),lr,optimizer)"
   ]
  },
  {
   "cell_type": "markdown",
   "metadata": {},
   "source": [
    "绘制loss曲线"
   ]
  },
  {
   "cell_type": "code",
   "execution_count": 22,
   "metadata": {},
   "outputs": [
    {
     "data": {
      "image/png": "[encoded data removed]",
      "text/plain": [
       "<Figure size 432x288 with 1 Axes>"
      ]
     },
     "metadata": {},
     "output_type": "display_data"
    }
   ],
   "source": [
    "import matplotlib.pyplot as plt\n",
    "\n",
    "x = np.linspace(0,len(train_loss),len(train_loss))\n",
    "plt.plot(x,train_loss,label='train_loss',linewidth=1.5)\n",
    "plt.plot(x,test_loss,label='test_loss',linewidth=1.5)\n",
    "plt.xlabel('epoch')\n",
    "plt.ylabel('loss')\n",
    "plt.legend()\n",
    "plt.show()"
   ]
  }
 ],
 "metadata": {
  "kernelspec": {
   "display_name": "Python 3",
   "language": "python",
   "name": "python3"
  },
  "language_info": {
   "codemirror_mode": {
    "name": "ipython",
    "version": 3
   },
   "file_extension": ".py",
   "mimetype": "text/x-python",
   "name": "python",
   "nbconvert_exporter": "python",
   "pygments_lexer": "ipython3",
   "version": "3.6.5"
  }
 },
 "nbformat": 4,
 "nbformat_minor": 2
}
