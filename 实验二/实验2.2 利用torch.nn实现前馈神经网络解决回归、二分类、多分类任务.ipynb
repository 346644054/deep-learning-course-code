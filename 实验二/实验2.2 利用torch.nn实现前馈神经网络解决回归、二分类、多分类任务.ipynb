{
 "cells": [
  {
   "cell_type": "code",
   "execution_count": 1,
   "metadata": {},
   "outputs": [],
   "source": [
    "import torch\n",
    "import torch.nn as nn\n",
    "import numpy as np\n",
    "import torchvision\n",
    "import torchvision.transforms as transforms\n",
    "import matplotlib.pyplot as plt\n",
    "%matplotlib inline"
   ]
  },
  {
   "cell_type": "markdown",
   "metadata": {},
   "source": [
    "**回归任务**"
   ]
  },
  {
   "cell_type": "code",
   "execution_count": 11,
   "metadata": {},
   "outputs": [],
   "source": [
    "#加载数据集\n",
    "features = torch.rand(10000, 500)\n",
    "labels = (0.0056 * features).sum(dim=1) + 0.028\n",
    "labels += torch.tensor(np.random.normal(0,0.01,size=labels.size()), dtype=torch.float)\n",
    "\n",
    "train_features = features[:7000,:]\n",
    "train_labels = labels[:7000]\n",
    "\n",
    "test_features = features[7000:,:]\n",
    "test_lables = labels[7000:]"
   ]
  },
  {
   "cell_type": "code",
   "execution_count": 12,
   "metadata": {},
   "outputs": [],
   "source": [
    "#定义数据迭代器\n",
    "train_dataset = torch.utils.data.TensorDataset(train_features,train_labels)\n",
    "test_dataset = torch.utils.data.TensorDataset(test_features,test_lables)\n",
    "\n",
    "batch_size = 100\n",
    "train_iter = torch.utils.data.DataLoader(train_dataset,batch_size=batch_size,shuffle=True)\n",
    "test_iter = torch.utils.data.DataLoader(test_dataset,batch_size=batch_size,shuffle=False)"
   ]
  },
  {
   "cell_type": "code",
   "execution_count": 13,
   "metadata": {},
   "outputs": [],
   "source": [
    "# 定义网络\n",
    "class LinearNet(nn.Module):\n",
    "    def __init__(self,n_feature):\n",
    "        super(LinearNet,self).__init__()\n",
    "        self.linear1 = nn.Linear(n_feature,250)\n",
    "        self.sigmoid = nn.Sigmoid()\n",
    "        self.linear2 = nn.Linear(250,1)\n",
    "    \n",
    "    def forward(self,x):\n",
    "        x = self.linear1(x)\n",
    "        x = self.sigmoid(x)\n",
    "        y = self.linear2(x)\n",
    "        return y\n",
    "    \n",
    "num_inputs = 500\n",
    "net = LinearNet(num_inputs)\n",
    "for param in net.parameters():\n",
    "    nn.init.normal_(param,mean=0, std= 0.01)"
   ]
  },
  {
   "cell_type": "code",
   "execution_count": 14,
   "metadata": {},
   "outputs": [],
   "source": [
    "#定义损失函数\n",
    "loss = nn.MSELoss()"
   ]
  },
  {
   "cell_type": "code",
   "execution_count": 15,
   "metadata": {},
   "outputs": [],
   "source": [
    "#定义优化算法\n",
    "optimizer = torch.optim.SGD(net.parameters(),lr=0.001)"
   ]
  },
  {
   "cell_type": "code",
   "execution_count": 25,
   "metadata": {},
   "outputs": [],
   "source": [
    "#模型训练\n",
    "def train():\n",
    "    num_epochs = 20\n",
    "    train_ls, test_ls = [], []\n",
    "    for epoch in range(num_epochs):\n",
    "        ls, count = 0, 0\n",
    "        for X,y in train_iter:\n",
    "            l=loss(net(X),y.view(-1,1))\n",
    "            optimizer.zero_grad()\n",
    "            l.backward()\n",
    "            optimizer.step()\n",
    "            ls += l.item()\n",
    "            count += y.shape[0]\n",
    "        train_ls.append(ls/count)\n",
    "        ls, count = 0, 0\n",
    "        for X,y in test_iter:\n",
    "            l=loss(net(X),y.view(-1,1))\n",
    "            ls += l.item()\n",
    "            count += y.shape[0]\n",
    "        test_ls.append(ls/count)\n",
    "        \n",
    "        print('epoch: %d, train loss: %f, test loss: %f'%(epoch+1,train_ls[-1],test_ls[-1]))\n",
    "    return train_ls,test_ls"
   ]
  },
  {
   "cell_type": "code",
   "execution_count": 17,
   "metadata": {},
   "outputs": [
    {
     "name": "stdout",
     "output_type": "stream",
     "text": [
      "epoch: 1, train loss: 0.001260, test loss: 0.000014\n",
      "epoch: 2, train loss: 0.000014, test loss: 0.000014\n",
      "epoch: 3, train loss: 0.000014, test loss: 0.000014\n",
      "epoch: 4, train loss: 0.000014, test loss: 0.000014\n",
      "epoch: 5, train loss: 0.000014, test loss: 0.000014\n",
      "epoch: 6, train loss: 0.000014, test loss: 0.000014\n",
      "epoch: 7, train loss: 0.000014, test loss: 0.000014\n",
      "epoch: 8, train loss: 0.000014, test loss: 0.000014\n",
      "epoch: 9, train loss: 0.000014, test loss: 0.000014\n",
      "epoch: 10, train loss: 0.000014, test loss: 0.000014\n"
     ]
    }
   ],
   "source": [
    "train_ls, test_ls = train()"
   ]
  },
  {
   "cell_type": "code",
   "execution_count": 18,
   "metadata": {},
   "outputs": [
    {
     "data": {
      "image/png": "[encoded data removed]",
      "text/plain": [
       "<Figure size 432x288 with 1 Axes>"
      ]
     },
     "metadata": {},
     "output_type": "display_data"
    }
   ],
   "source": [
    "x = np.linspace(0,len(train_ls),len(train_ls))\n",
    "plt.plot(x,train_ls,label='train_loss',linewidth=1.5)\n",
    "plt.plot(x,test_ls,label='test_loss',linewidth=1.5)\n",
    "plt.ylim(0, 0.0008)\n",
    "plt.xlabel('epoch')\n",
    "plt.ylabel('loss')\n",
    "plt.legend()\n",
    "plt.show()"
   ]
  },
  {
   "cell_type": "markdown",
   "metadata": {},
   "source": [
    "**二分类任务**"
   ]
  },
  {
   "cell_type": "code",
   "execution_count": 29,
   "metadata": {},
   "outputs": [],
   "source": [
    "#生成数据\n",
    "x1 = torch.tensor(np.random.normal(2,1,(10000,200)), dtype=torch.float)\n",
    "x1_labels = torch.ones((10000))\n",
    "x2 = torch.tensor(np.random.normal(-2,1,(10000,200)), dtype=torch.float)\n",
    "x2_labels = torch.zeros((10000))\n",
    "class_2_features = torch.cat((x1,x2),dim=0)\n",
    "class_2_labels = torch.cat((x1_labels,x2_labels))\n",
    "index = [i for i in range(len(class_2_labels))]\n",
    "np.random.shuffle(index)\n",
    "train_class_2_features = class_2_features[index[:14000],:]\n",
    "test_class_2_features = class_2_features[index[14000:],:]\n",
    "train_class_2_labels = class_2_labels[index[:14000]]\n",
    "test_class_2_labels = class_2_labels[index[14000:]]"
   ]
  },
  {
   "cell_type": "code",
   "execution_count": 30,
   "metadata": {},
   "outputs": [],
   "source": [
    "#生成数据迭代器\n",
    "train_dataset = torch.utils.data.TensorDataset(train_class_2_features, train_class_2_labels)\n",
    "test_dataset = torch.utils.data.TensorDataset(test_class_2_features, test_class_2_labels)\n",
    "train_iter = torch.utils.data.DataLoader(train_dataset, batch_size=100, shuffle=True)\n",
    "test_iter = torch.utils.data.DataLoader(test_dataset, batch_size=100, shuffle=False)"
   ]
  },
  {
   "cell_type": "code",
   "execution_count": 31,
   "metadata": {},
   "outputs": [],
   "source": [
    "# 定义网络\n",
    "class class_LinearNet(nn.Module):\n",
    "    def __init__(self,n_feature):\n",
    "        super(class_LinearNet,self).__init__()\n",
    "        self.linear1 = nn.Linear(n_feature,100)\n",
    "        self.relu = nn.ReLU()\n",
    "        self.linear2 = nn.Linear(100,1)\n",
    "        self.sigmoid = nn.Sigmoid()\n",
    "    \n",
    "    def forward(self,x):\n",
    "        x = self.linear1(x)\n",
    "        x = self.relu(x)\n",
    "        x = self.linear2(x)\n",
    "        x = self.relu(x)\n",
    "        y = self.sigmoid(x)\n",
    "        return y\n",
    "    \n",
    "num_inputs = 200\n",
    "net = class_LinearNet(num_inputs)\n",
    "for param in net.parameters():\n",
    "    nn.init.normal_(param,mean=0, std= 0.01)"
   ]
  },
  {
   "cell_type": "code",
   "execution_count": 32,
   "metadata": {},
   "outputs": [],
   "source": [
    "#定义损失函数\n",
    "loss = nn.BCELoss()"
   ]
  },
  {
   "cell_type": "code",
   "execution_count": 33,
   "metadata": {},
   "outputs": [],
   "source": [
    "#定义优化方法\n",
    "optimizer = torch.optim.SGD(net.parameters(),lr = 0.001)"
   ]
  },
  {
   "cell_type": "code",
   "execution_count": 34,
   "metadata": {},
   "outputs": [
    {
     "name": "stdout",
     "output_type": "stream",
     "text": [
      "epoch: 1, train loss: 0.006230, test loss: 0.005523\n",
      "epoch: 2, train loss: 0.004822, test loss: 0.004286\n",
      "epoch: 3, train loss: 0.004003, test loss: 0.003837\n",
      "epoch: 4, train loss: 0.003729, test loss: 0.003682\n",
      "epoch: 5, train loss: 0.003623, test loss: 0.003613\n",
      "epoch: 6, train loss: 0.003572, test loss: 0.003576\n",
      "epoch: 7, train loss: 0.003543, test loss: 0.003554\n",
      "epoch: 8, train loss: 0.003525, test loss: 0.003540\n",
      "epoch: 9, train loss: 0.003513, test loss: 0.003530\n",
      "epoch: 10, train loss: 0.003505, test loss: 0.003522\n",
      "epoch: 11, train loss: 0.003498, test loss: 0.003517\n",
      "epoch: 12, train loss: 0.003493, test loss: 0.003512\n",
      "epoch: 13, train loss: 0.003489, test loss: 0.003509\n",
      "epoch: 14, train loss: 0.003486, test loss: 0.003506\n",
      "epoch: 15, train loss: 0.003483, test loss: 0.003503\n",
      "epoch: 16, train loss: 0.003481, test loss: 0.003501\n",
      "epoch: 17, train loss: 0.003479, test loss: 0.003500\n",
      "epoch: 18, train loss: 0.003478, test loss: 0.003498\n",
      "epoch: 19, train loss: 0.003476, test loss: 0.003497\n",
      "epoch: 20, train loss: 0.003475, test loss: 0.003496\n"
     ]
    }
   ],
   "source": [
    "train_ls, test_ls = train()"
   ]
  },
  {
   "cell_type": "code",
   "execution_count": 35,
   "metadata": {},
   "outputs": [
    {
     "data": {
      "image/png": "[encoded data removed]",
      "text/plain": [
       "<Figure size 432x288 with 1 Axes>"
      ]
     },
     "metadata": {},
     "output_type": "display_data"
    }
   ],
   "source": [
    "x = np.linspace(0,len(train_ls),len(train_ls))\n",
    "plt.plot(x,train_ls,label='train_loss',linewidth=1.5)\n",
    "plt.plot(x,test_ls,label='test_loss',linewidth=1.5)\n",
    "plt.xlabel('epoch')\n",
    "plt.ylabel('loss')\n",
    "plt.legend()\n",
    "plt.show()"
   ]
  },
  {
   "cell_type": "markdown",
   "metadata": {},
   "source": [
    "**多分类任务**"
   ]
  },
  {
   "cell_type": "code",
   "execution_count": 17,
   "metadata": {},
   "outputs": [],
   "source": [
    "#生成数据\n",
    "\n",
    "#下载MNIST手写数字数据集\n",
    "train_dataset = torchvision.datasets.MNIST(root='./Datasets/MNIST', train=True, transform=transforms.ToTensor(),download=True)\n",
    "test_dataset = torchvision.datasets.MNIST(root='./Datasets/MNIST', train=False, transform = transforms.ToTensor(),download=True)\n",
    "\n",
    "train_loader = torch.utils.data.DataLoader(train_dataset, batch_size=32, shuffle=True)\n",
    "test_loader = torch.utils.data.DataLoader(test_dataset, batch_size=32, shuffle=False)"
   ]
  },
  {
   "cell_type": "code",
   "execution_count": 19,
   "metadata": {},
   "outputs": [],
   "source": [
    "#定义网络\n",
    "class muti_class_LinearNet(nn.Module):\n",
    "    def __init__(self,num_inputs, num_outputs, num_hiddens):\n",
    "        super(muti_class_LinearNet,self).__init__()\n",
    "        self.linear1 = nn.Linear(num_inputs,num_hiddens)\n",
    "        self.relu = nn.ReLU()\n",
    "        self.linear2 = nn.Linear(num_hiddens,num_outputs)\n",
    "    \n",
    "    def forward(self,x):\n",
    "        x = self.linear1(x)\n",
    "        x = self.relu(x)\n",
    "        x = self.linear2(x)\n",
    "        y = self.relu(x)\n",
    "        return y\n",
    "\n",
    "num_inputs, num_outputs, num_hiddens = 784, 10, 100\n",
    "net = muti_class_LinearNet(num_inputs, num_outputs, num_hiddens)\n",
    "for param in net.parameters():\n",
    "    nn.init.normal_(param,mean=0, std= 0.01)"
   ]
  },
  {
   "cell_type": "code",
   "execution_count": 20,
   "metadata": {},
   "outputs": [],
   "source": [
    "#定义损失函数\n",
    "loss = nn.CrossEntropyLoss()"
   ]
  },
  {
   "cell_type": "code",
   "execution_count": 21,
   "metadata": {},
   "outputs": [],
   "source": [
    "#定义优化器\n",
    "optimizer = torch.optim.SGD(net.parameters(),lr = 0.001)"
   ]
  },
  {
   "cell_type": "code",
   "execution_count": 22,
   "metadata": {},
   "outputs": [],
   "source": [
    "#模型训练\n",
    "def train():\n",
    "    num_epochs = 20\n",
    "    train_ls, test_ls = [], []\n",
    "    for epoch in range(num_epochs):\n",
    "        ls, count = 0, 0\n",
    "        for X,y in train_loader:\n",
    "            X = X.reshape(-1,num_inputs)\n",
    "            l=loss(net(X),y).sum()\n",
    "            optimizer.zero_grad()\n",
    "            l.backward()\n",
    "            optimizer.step()\n",
    "            ls += l.item()\n",
    "            count += y.shape[0]\n",
    "        train_ls.append(ls/count)\n",
    "        ls, count = 0, 0\n",
    "        for X,y in test_loader:\n",
    "            X = X.reshape(-1,num_inputs)\n",
    "            l=loss(net(X),y).sum()\n",
    "            ls += l.item()\n",
    "            count += y.shape[0]\n",
    "        test_ls.append(ls/count)\n",
    "        \n",
    "        print('epoch: %d, train loss: %f, test loss: %f'%(epoch+1,train_ls[-1],test_ls[-1]))\n",
    "    return train_ls,test_ls"
   ]
  },
  {
   "cell_type": "code",
   "execution_count": 23,
   "metadata": {
    "scrolled": true
   },
   "outputs": [
    {
     "name": "stdout",
     "output_type": "stream",
     "text": [
      "epoch: 1, train loss: 0.071797, test loss: 0.071694\n",
      "epoch: 2, train loss: 0.071189, test loss: 0.070681\n",
      "epoch: 3, train loss: 0.069479, test loss: 0.067926\n",
      "epoch: 4, train loss: 0.065347, test loss: 0.062071\n",
      "epoch: 5, train loss: 0.058587, test loss: 0.054734\n",
      "epoch: 6, train loss: 0.052082, test loss: 0.049101\n",
      "epoch: 7, train loss: 0.047418, test loss: 0.045176\n",
      "epoch: 8, train loss: 0.044061, test loss: 0.042272\n",
      "epoch: 9, train loss: 0.041506, test loss: 0.040031\n",
      "epoch: 10, train loss: 0.039530, test loss: 0.038286\n",
      "epoch: 11, train loss: 0.037987, test loss: 0.036903\n",
      "epoch: 12, train loss: 0.036768, test loss: 0.035806\n",
      "epoch: 13, train loss: 0.035794, test loss: 0.034926\n",
      "epoch: 14, train loss: 0.035004, test loss: 0.034208\n",
      "epoch: 15, train loss: 0.034355, test loss: 0.033614\n",
      "epoch: 16, train loss: 0.033813, test loss: 0.033114\n",
      "epoch: 17, train loss: 0.033363, test loss: 0.032689\n",
      "epoch: 18, train loss: 0.032975, test loss: 0.032341\n",
      "epoch: 19, train loss: 0.032641, test loss: 0.032026\n",
      "epoch: 20, train loss: 0.032350, test loss: 0.031752\n"
     ]
    }
   ],
   "source": [
    "train_ls, test_ls = train()"
   ]
  },
  {
   "cell_type": "code",
   "execution_count": 25,
   "metadata": {},
   "outputs": [
    {
     "data": {
      "image/png": "[encoded data removed]",
      "text/plain": [
       "<Figure size 432x288 with 1 Axes>"
      ]
     },
     "metadata": {},
     "output_type": "display_data"
    }
   ],
   "source": [
    "x = np.linspace(0,len(train_ls),len(train_ls))\n",
    "plt.plot(x,train_ls,label='train_loss',linewidth=1.5)\n",
    "plt.plot(x,test_ls,label='test_loss',linewidth=1.5)\n",
    "plt.xlabel('epoch')\n",
    "plt.ylabel('loss')\n",
    "plt.legend()\n",
    "plt.show()"
   ]
  }
 ],
 "metadata": {
  "kernelspec": {
   "display_name": "Python 3",
   "language": "python",
   "name": "python3"
  },
  "language_info": {
   "codemirror_mode": {
    "name": "ipython",
    "version": 3
   },
   "file_extension": ".py",
   "mimetype": "text/x-python",
   "name": "python",
   "nbconvert_exporter": "python",
   "pygments_lexer": "ipython3",
   "version": "3.6.5"
  }
 },
 "nbformat": 4,
 "nbformat_minor": 2
}
