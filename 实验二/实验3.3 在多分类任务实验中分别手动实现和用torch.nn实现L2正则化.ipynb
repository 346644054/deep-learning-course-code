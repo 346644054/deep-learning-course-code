{
 "cells": [
  {
   "cell_type": "code",
   "execution_count": 1,
   "metadata": {},
   "outputs": [],
   "source": [
    "import torch\n",
    "import torch.nn as nn\n",
    "import numpy as np\n",
    "import torchvision\n",
    "import torchvision.transforms as transforms\n",
    "import matplotlib.pyplot as plt\n",
    "%matplotlib inline"
   ]
  },
  {
   "cell_type": "code",
   "execution_count": 2,
   "metadata": {},
   "outputs": [],
   "source": [
    "#生成数据\n",
    "\n",
    "#下载MNIST手写数字数据集\n",
    "train_dataset = torchvision.datasets.MNIST(root='./Datasets/MNIST', train=True, transform=transforms.ToTensor(),download=True)\n",
    "test_dataset = torchvision.datasets.MNIST(root='./Datasets/MNIST', train=False, transform = transforms.ToTensor(),download=True)\n",
    "\n",
    "train_loader = torch.utils.data.DataLoader(train_dataset, batch_size=32, shuffle=True)\n",
    "test_loader = torch.utils.data.DataLoader(test_dataset, batch_size=32, shuffle=False)"
   ]
  },
  {
   "cell_type": "markdown",
   "metadata": {},
   "source": [
    "* 手动实现L2正则化"
   ]
  },
  {
   "cell_type": "code",
   "execution_count": 3,
   "metadata": {},
   "outputs": [],
   "source": [
    "def l2_penalty(w):\n",
    "    return (w**2).sum() / 2"
   ]
  },
  {
   "cell_type": "code",
   "execution_count": 29,
   "metadata": {},
   "outputs": [],
   "source": [
    "#定义模型参数\n",
    "num_inputs, num_outputs, num_hiddens = 784, 10, 600\n",
    "def init_w_b():\n",
    "\n",
    "    W1 = torch.tensor(np.random.normal(0, 0.01, (num_inputs, num_hiddens)), dtype=torch.float)\n",
    "    b1 = torch.zeros(num_hiddens, dtype = torch.float)\n",
    "    W2 = torch.tensor(np.random.normal(0, 0.01, (num_hiddens, num_outputs)), dtype=torch.float)\n",
    "    b2 = torch.zeros(num_outputs,dtype=torch.float)\n",
    "\n",
    "    params = [W1,b1,W2,b2]\n",
    "    for param in params:\n",
    "        param.requires_grad_(requires_grad=True)\n",
    "    return W1,b1,W2,b2"
   ]
  },
  {
   "cell_type": "code",
   "execution_count": 28,
   "metadata": {},
   "outputs": [],
   "source": [
    "def net(X):\n",
    "    X = X.view(-1, num_inputs)\n",
    "    H1 = (torch.matmul(X, W1) + b1).relu()\n",
    "    return (torch.matmul(H1,W2) + b2).relu()"
   ]
  },
  {
   "cell_type": "code",
   "execution_count": 30,
   "metadata": {},
   "outputs": [],
   "source": [
    "def train(lamda):\n",
    "    num_epochs = 20\n",
    "    train_ls, test_ls = [], []\n",
    "    for epoch in range(num_epochs):\n",
    "        ls, count = 0, 0\n",
    "        for X,y in train_loader:\n",
    "            X = X.reshape(-1,num_inputs)\n",
    "            l=loss(net(X),y).sum() + lamda*l2_penalty(W1) + lamda*l2_penalty(W2)\n",
    "            optimizer.zero_grad()\n",
    "            l.backward()\n",
    "            optimizer.step()\n",
    "            ls += l.item()\n",
    "            count += y.shape[0]\n",
    "        train_ls.append(ls/count)\n",
    "        ls, count = 0, 0\n",
    "        for X,y in test_loader:\n",
    "            X = X.reshape(-1,num_inputs)\n",
    "            l=loss(net(X),y).sum() + lamda*l2_penalty(W1) + lamda*l2_penalty(W2)\n",
    "            ls += l.item()\n",
    "            count += y.shape[0]\n",
    "        test_ls.append(ls/count)\n",
    "        \n",
    "        print('epoch: %d, train loss: %f, test loss: %f'%(epoch+1,train_ls[-1],test_ls[-1]))\n",
    "    return train_ls,test_ls"
   ]
  },
  {
   "cell_type": "code",
   "execution_count": 31,
   "metadata": {},
   "outputs": [
    {
     "name": "stdout",
     "output_type": "stream",
     "text": [
      "epoch: 1, train loss: 0.239807, test loss: 0.129059\n",
      "epoch: 2, train loss: 0.097687, test loss: 0.080839\n",
      "epoch: 3, train loss: 0.075931, test loss: 0.073431\n",
      "epoch: 4, train loss: 0.072575, test loss: 0.072277\n",
      "epoch: 5, train loss: 0.072046, test loss: 0.072090\n",
      "epoch: 6, train loss: 0.071956, test loss: 0.072055\n",
      "epoch: 7, train loss: 0.071937, test loss: 0.072046\n",
      "epoch: 8, train loss: 0.071931, test loss: 0.072042\n",
      "epoch: 9, train loss: 0.071928, test loss: 0.072040\n",
      "epoch: 10, train loss: 0.071926, test loss: 0.072038\n",
      "epoch: 11, train loss: 0.071924, test loss: 0.072037\n",
      "epoch: 12, train loss: 0.071923, test loss: 0.072036\n",
      "epoch: 13, train loss: 0.071923, test loss: 0.072036\n",
      "epoch: 14, train loss: 0.071922, test loss: 0.072035\n",
      "epoch: 15, train loss: 0.071922, test loss: 0.072035\n",
      "epoch: 16, train loss: 0.071921, test loss: 0.072035\n",
      "epoch: 17, train loss: 0.071921, test loss: 0.072034\n",
      "epoch: 18, train loss: 0.071921, test loss: 0.072034\n",
      "epoch: 19, train loss: 0.071921, test loss: 0.072034\n",
      "epoch: 20, train loss: 0.071920, test loss: 0.072034\n"
     ]
    }
   ],
   "source": [
    "Lamda = [0,0.2,0.5]\n",
    "Train_ls, Test_ls = [], []\n",
    "for lamda in Lamda:\n",
    "    W1,b1,W2,b2 = init_w_b()\n",
    "    loss = nn.CrossEntropyLoss()\n",
    "    optimizer = torch.optim.SGD([W1,b1,W2,b2],lr = 0.001)\n",
    "    train_ls, test_ls = train(lamda)\n",
    "    Train_ls.append(train_ls)\n",
    "    Test_ls.append(test_ls)"
   ]
  },
  {
   "cell_type": "code",
   "execution_count": 55,
   "metadata": {},
   "outputs": [
    {
     "data": {
      "image/png": "[encoded data removed]",
      "text/plain": [
       "<Figure size 432x288 with 1 Axes>"
      ]
     },
     "metadata": {},
     "output_type": "display_data"
    }
   ],
   "source": [
    "x = np.linspace(0,len(Train_ls[1]),len(Train_ls[1]))\n",
    "for i in range(0,len(Lamda)):\n",
    "    plt.plot(x,Train_ls[i],label= f'L2_penalty:{Lamda [i]}',linewidth=1.5)\n",
    "    plt.xlabel('epoch')\n",
    "    plt.ylabel('loss')\n",
    "plt.legend()\n",
    "plt.title('train loss')\n",
    "plt.show()"
   ]
  },
  {
   "cell_type": "markdown",
   "metadata": {},
   "source": [
    "* 利用torch.nn实现L2正则化"
   ]
  },
  {
   "cell_type": "code",
   "execution_count": null,
   "metadata": {},
   "outputs": [],
   "source": [
    "class muti_class_LinearNet(nn.Module):\n",
    "    def __init__(self,num_inputs, num_outputs, num_hiddens):\n",
    "        super(muti_class_LinearNet,self).__init__()\n",
    "        self.linear1 = nn.Linear(num_inputs,num_hiddens)\n",
    "        self.relu = nn.ReLU()\n",
    "        self.linear2 = nn.Linear(num_hiddens,num_outputs)\n",
    "    \n",
    "    def forward(self,x):\n",
    "        x = self.linear1(x)\n",
    "        x = self.relu(x)\n",
    "        x = self.linear2(x)\n",
    "        y = self.relu(x)\n",
    "        return y"
   ]
  },
  {
   "cell_type": "code",
   "execution_count": null,
   "metadata": {},
   "outputs": [],
   "source": [
    "def train_torch(lamda):\n",
    "    num_epochs = 20\n",
    "    train_ls, test_ls = [], []\n",
    "    for epoch in range(num_epochs):\n",
    "        ls, count = 0, 0\n",
    "        for X,y in train_loader:\n",
    "            X = X.reshape(-1,num_inputs)\n",
    "            l=loss(net(X),y).sum() \n",
    "            optimizer_w.zero_grad()\n",
    "            optimizer_b.zero_grad()\n",
    "            l.backward()\n",
    "            optimizer_w.step()\n",
    "            optimizer_b.step()\n",
    "            ls += l.item()\n",
    "            count += y.shape[0]\n",
    "        train_ls.append(ls/count)\n",
    "        ls, count = 0, 0\n",
    "        for X,y in test_loader:\n",
    "            X = X.reshape(-1,num_inputs)\n",
    "            l=loss(net(X),y).sum()\n",
    "            ls += l.item()\n",
    "            count += y.shape[0]\n",
    "        test_ls.append(ls/count)\n",
    "        \n",
    "        print('epoch: %d, train loss: %f, test loss: %f'%(epoch+1,train_ls[-1],test_ls[-1]))\n",
    "    return train_ls,test_ls"
   ]
  },
  {
   "cell_type": "code",
   "execution_count": null,
   "metadata": {},
   "outputs": [],
   "source": [
    "Lamda = [0,0.2,0,5]\n",
    "torch_Train_ls, torch_Test_ls = [], []\n",
    "for lamda in Lamda:\n",
    "    W1,b1,W2,b2 = init_w_b()\n",
    "    loss = nn.CrossEntropyLoss()\n",
    "    optimizer_w = torch.optim.SGD([W1,W2],lr = 0.001,weight_decay=lamda)\n",
    "    optimizer_b = torch.optim.SGD([b1,b2],lr = 0.001)\n",
    "    train_ls, test_ls = train_torch(lamda)\n",
    "    torch_Train_ls.append(train_ls)\n",
    "    torch_Test_ls.append(test_ls)"
   ]
  },
  {
   "cell_type": "markdown",
   "metadata": {},
   "source": [
    "<img src=\"torch_L2.jpg\">"
   ]
  }
 ],
 "metadata": {
  "kernelspec": {
   "display_name": "Python 3",
   "language": "python",
   "name": "python3"
  },
  "language_info": {
   "codemirror_mode": {
    "name": "ipython",
    "version": 3
   },
   "file_extension": ".py",
   "mimetype": "text/x-python",
   "name": "python",
   "nbconvert_exporter": "python",
   "pygments_lexer": "ipython3",
   "version": "3.6.5"
  }
 },
 "nbformat": 4,
 "nbformat_minor": 2
}
