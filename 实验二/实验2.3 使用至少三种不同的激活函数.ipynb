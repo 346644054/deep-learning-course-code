{
 "cells": [
  {
   "cell_type": "code",
   "execution_count": 1,
   "metadata": {},
   "outputs": [],
   "source": [
    "import torch\n",
    "import torch.nn as nn\n",
    "import numpy as np\n",
    "import torchvision\n",
    "import torchvision.transforms as transforms\n",
    "import matplotlib.pyplot as plt\n",
    "%matplotlib inline"
   ]
  },
  {
   "cell_type": "markdown",
   "metadata": {},
   "source": [
    "**回归任务**"
   ]
  },
  {
   "cell_type": "code",
   "execution_count": 17,
   "metadata": {},
   "outputs": [],
   "source": [
    "#加载数据集\n",
    "features = torch.rand(10000, 500)\n",
    "labels = (0.0056 * features).sum(dim=1) + 0.028\n",
    "labels += torch.tensor(np.random.normal(0,0.01,size=labels.size()), dtype=torch.float)\n",
    "\n",
    "train_features = features[:7000,:]\n",
    "train_labels = labels[:7000]\n",
    "\n",
    "test_features = features[7000:,:]\n",
    "test_lables = labels[7000:]"
   ]
  },
  {
   "cell_type": "code",
   "execution_count": 18,
   "metadata": {},
   "outputs": [],
   "source": [
    "#定义数据迭代器\n",
    "train_dataset = torch.utils.data.TensorDataset(train_features,train_labels)\n",
    "test_dataset = torch.utils.data.TensorDataset(test_features,test_lables)\n",
    "\n",
    "batch_size = 100\n",
    "train_iter = torch.utils.data.DataLoader(train_dataset,batch_size=batch_size,shuffle=True)\n",
    "test_iter = torch.utils.data.DataLoader(test_dataset,batch_size=batch_size,shuffle=False)"
   ]
  },
  {
   "cell_type": "code",
   "execution_count": 19,
   "metadata": {},
   "outputs": [],
   "source": [
    "# 定义网络\n",
    "class LinearNet(nn.Module):\n",
    "    def __init__(self,n_feature,num_model):\n",
    "        super(LinearNet,self).__init__()\n",
    "        self.num_model = num_model\n",
    "        self.model1 = nn.Sequential(\n",
    "                        nn.Linear(n_feature,250),\n",
    "                        nn.Sigmoid(),\n",
    "                        nn.Linear(250,1))\n",
    "        self.model2 = nn.Sequential(\n",
    "                        nn.Linear(n_feature,250),\n",
    "                        nn.Tanh(),\n",
    "                        nn.Linear(250,1))\n",
    "        self.model3 = nn.Sequential(\n",
    "                        nn.Linear(n_feature,250),\n",
    "                        nn.ReLU(),\n",
    "                        nn.Linear(250,1))\n",
    "    \n",
    "    def forward(self,x):\n",
    "        assert self.num_model <= 3\n",
    "        if self.num_model == 1:\n",
    "            y = self.model1(x)\n",
    "        elif self.num_model == 2:\n",
    "            y = self.model2(x)\n",
    "        else:\n",
    "            y = self.model3(x)\n",
    "        return y"
   ]
  },
  {
   "cell_type": "code",
   "execution_count": 22,
   "metadata": {},
   "outputs": [],
   "source": [
    "#模型训练\n",
    "def train():\n",
    "    num_epochs = 10\n",
    "    train_ls, test_ls = [], []\n",
    "    for epoch in range(num_epochs):\n",
    "        ls, count = 0, 0\n",
    "        for X,y in train_iter:\n",
    "            l=loss(net(X),y.view(-1,1))\n",
    "            optimizer.zero_grad()\n",
    "            l.backward()\n",
    "            optimizer.step()\n",
    "            ls += l.item()\n",
    "            count += y.shape[0]\n",
    "        train_ls.append(ls/count)\n",
    "        ls, count = 0, 0\n",
    "        for X,y in test_iter:\n",
    "            l=loss(net(X),y.view(-1,1))\n",
    "            ls += l.item()\n",
    "            count += y.shape[0]\n",
    "        test_ls.append(ls/count)\n",
    "        \n",
    "        print('epoch: %d, train loss: %f, test loss: %f'%(epoch+1,train_ls[-1],test_ls[-1]))\n",
    "    return train_ls,test_ls"
   ]
  },
  {
   "cell_type": "code",
   "execution_count": 24,
   "metadata": {},
   "outputs": [
    {
     "name": "stdout",
     "output_type": "stream",
     "text": [
      "epoch: 1, train loss: 0.001207, test loss: 0.000014\n",
      "epoch: 2, train loss: 0.000014, test loss: 0.000014\n",
      "epoch: 3, train loss: 0.000014, test loss: 0.000014\n",
      "epoch: 4, train loss: 0.000014, test loss: 0.000014\n",
      "epoch: 5, train loss: 0.000014, test loss: 0.000014\n",
      "epoch: 6, train loss: 0.000014, test loss: 0.000014\n",
      "epoch: 7, train loss: 0.000014, test loss: 0.000014\n",
      "epoch: 8, train loss: 0.000014, test loss: 0.000014\n",
      "epoch: 9, train loss: 0.000014, test loss: 0.000014\n",
      "epoch: 10, train loss: 0.000014, test loss: 0.000014\n",
      "epoch: 1, train loss: 0.006797, test loss: 0.000234\n",
      "epoch: 2, train loss: 0.000038, test loss: 0.000005\n",
      "epoch: 3, train loss: 0.000005, test loss: 0.000005\n",
      "epoch: 4, train loss: 0.000005, test loss: 0.000005\n",
      "epoch: 5, train loss: 0.000005, test loss: 0.000005\n",
      "epoch: 6, train loss: 0.000005, test loss: 0.000005\n",
      "epoch: 7, train loss: 0.000005, test loss: 0.000005\n",
      "epoch: 8, train loss: 0.000005, test loss: 0.000005\n",
      "epoch: 9, train loss: 0.000005, test loss: 0.000005\n",
      "epoch: 10, train loss: 0.000005, test loss: 0.000005\n",
      "epoch: 1, train loss: 0.009572, test loss: 0.000691\n",
      "epoch: 2, train loss: 0.000102, test loss: 0.000006\n",
      "epoch: 3, train loss: 0.000006, test loss: 0.000006\n",
      "epoch: 4, train loss: 0.000006, test loss: 0.000006\n",
      "epoch: 5, train loss: 0.000006, test loss: 0.000006\n",
      "epoch: 6, train loss: 0.000006, test loss: 0.000006\n",
      "epoch: 7, train loss: 0.000006, test loss: 0.000006\n",
      "epoch: 8, train loss: 0.000006, test loss: 0.000006\n",
      "epoch: 9, train loss: 0.000006, test loss: 0.000006\n",
      "epoch: 10, train loss: 0.000006, test loss: 0.000006\n"
     ]
    }
   ],
   "source": [
    "num_inputs = 500\n",
    "re_Train_ls, re_Test_ls = [], []\n",
    "for i in range(1,4):\n",
    "    net = LinearNet(num_inputs,i)\n",
    "    for param in net.parameters():\n",
    "        nn.init.normal_(param,mean=0, std= 0.01)\n",
    "    loss = nn.MSELoss()\n",
    "    optimizer = torch.optim.SGD(net.parameters(),lr=0.001)\n",
    "    train_ls, test_ls = train()\n",
    "    re_Train_ls.append(train_ls)\n",
    "    re_Test_ls.append(test_ls)"
   ]
  },
  {
   "cell_type": "code",
   "execution_count": 46,
   "metadata": {},
   "outputs": [
    {
     "data": {
      "image/png": "[encoded data removed]",
      "text/plain": [
       "<Figure size 432x288 with 1 Axes>"
      ]
     },
     "metadata": {},
     "output_type": "display_data"
    }
   ],
   "source": [
    "x = np.linspace(0,len(train_ls),len(train_ls))\n",
    "plt.plot(x,re_Train_ls[0],label='Sigmoid',linewidth=1.5)\n",
    "plt.plot(x,re_Train_ls[1],label='Tanh',linewidth=1.5)\n",
    "plt.plot(x,re_Train_ls[2],label='ReLU',linewidth=1.5)\n",
    "my_x_ticks = np.arange(0, 12, 2)\n",
    "plt.xticks(my_x_ticks)\n",
    "plt.xlabel('epoch')\n",
    "plt.ylabel('loss')\n",
    "plt.legend()\n",
    "plt.title('train_loss')\n",
    "plt.show()"
   ]
  },
  {
   "cell_type": "markdown",
   "metadata": {},
   "source": [
    "**二分类任务**"
   ]
  },
  {
   "cell_type": "code",
   "execution_count": 25,
   "metadata": {},
   "outputs": [],
   "source": [
    "#生成数据\n",
    "x1 = torch.tensor(np.random.normal(2,1,(5000,200)), dtype=torch.float)\n",
    "x1_labels = torch.ones((5000))\n",
    "x2 = torch.tensor(np.random.normal(-2,1,(5000,200)), dtype=torch.float)\n",
    "x2_labels = torch.zeros((5000))\n",
    "class_2_features = torch.cat((x1,x2),dim=0)\n",
    "class_2_labels = torch.cat((x1_labels,x2_labels))\n",
    "index = [i for i in range(len(class_2_labels))]\n",
    "np.random.shuffle(index)\n",
    "train_class_2_features = class_2_features[index[:7000],:]\n",
    "test_class_2_features = class_2_features[index[7000:],:]\n",
    "train_class_2_labels = class_2_labels[index[:7000]]\n",
    "test_class_2_labels = class_2_labels[index[7000:]]"
   ]
  },
  {
   "cell_type": "code",
   "execution_count": 26,
   "metadata": {},
   "outputs": [],
   "source": [
    "#生成数据迭代器\n",
    "train_dataset = torch.utils.data.TensorDataset(train_class_2_features, train_class_2_labels)\n",
    "test_dataset = torch.utils.data.TensorDataset(test_class_2_features, test_class_2_labels)\n",
    "train_iter = torch.utils.data.DataLoader(train_dataset, batch_size=100, shuffle=True)\n",
    "test_iter = torch.utils.data.DataLoader(test_dataset, batch_size=100, shuffle=False)"
   ]
  },
  {
   "cell_type": "code",
   "execution_count": 41,
   "metadata": {},
   "outputs": [],
   "source": [
    "# 定义网络\n",
    "class class_LinearNet(nn.Module):\n",
    "    def __init__(self,n_feature,num_model):\n",
    "        super(class_LinearNet,self).__init__()\n",
    "        self.num_model = num_model\n",
    "        self.model1 = nn.Sequential(\n",
    "                        nn.Linear(n_feature,100),\n",
    "                        nn.ReLU(),\n",
    "                        nn.Linear(100,1),\n",
    "                        nn.Sigmoid())\n",
    "        self.model2 = nn.Sequential(\n",
    "                        nn.Linear(n_feature,100),\n",
    "                        nn.Tanh(),\n",
    "                        nn.Linear(100,1),\n",
    "                        nn.Sigmoid())\n",
    "        self.model3 = nn.Sequential(\n",
    "                        nn.Linear(n_feature,100),\n",
    "                        nn.LeakyReLU(0.2),\n",
    "                        nn.Linear(100,1),\n",
    "                        nn.Sigmoid())\n",
    "    \n",
    "    def forward(self,x):\n",
    "        assert self.num_model <= 3\n",
    "        if self.num_model == 1:\n",
    "            y = self.model1(x)\n",
    "        elif self.num_model == 2:\n",
    "            y = self.model2(x)\n",
    "        else:\n",
    "            y = self.model3(x)\n",
    "        return y"
   ]
  },
  {
   "cell_type": "code",
   "execution_count": 42,
   "metadata": {},
   "outputs": [
    {
     "name": "stdout",
     "output_type": "stream",
     "text": [
      "epoch: 1, train loss: 0.006600, test loss: 0.006195\n",
      "epoch: 2, train loss: 0.005679, test loss: 0.005062\n",
      "epoch: 3, train loss: 0.004332, test loss: 0.003551\n",
      "epoch: 4, train loss: 0.002856, test loss: 0.002211\n",
      "epoch: 5, train loss: 0.001758, test loss: 0.001368\n",
      "epoch: 6, train loss: 0.001115, test loss: 0.000898\n",
      "epoch: 7, train loss: 0.000756, test loss: 0.000632\n",
      "epoch: 8, train loss: 0.000547, test loss: 0.000471\n",
      "epoch: 9, train loss: 0.000417, test loss: 0.000367\n",
      "epoch: 10, train loss: 0.000331, test loss: 0.000297\n",
      "epoch: 1, train loss: 0.005892, test loss: 0.004752\n",
      "epoch: 2, train loss: 0.003704, test loss: 0.002752\n",
      "epoch: 3, train loss: 0.002131, test loss: 0.001622\n",
      "epoch: 4, train loss: 0.001315, test loss: 0.001060\n",
      "epoch: 5, train loss: 0.000898, test loss: 0.000758\n",
      "epoch: 6, train loss: 0.000663, test loss: 0.000578\n",
      "epoch: 7, train loss: 0.000518, test loss: 0.000462\n",
      "epoch: 8, train loss: 0.000421, test loss: 0.000382\n",
      "epoch: 9, train loss: 0.000352, test loss: 0.000324\n",
      "epoch: 10, train loss: 0.000302, test loss: 0.000281\n",
      "epoch: 1, train loss: 0.006284, test loss: 0.005659\n",
      "epoch: 2, train loss: 0.004854, test loss: 0.003943\n",
      "epoch: 3, train loss: 0.003074, test loss: 0.002270\n",
      "epoch: 4, train loss: 0.001729, test loss: 0.001281\n",
      "epoch: 5, train loss: 0.001013, test loss: 0.000790\n",
      "epoch: 6, train loss: 0.000653, test loss: 0.000535\n",
      "epoch: 7, train loss: 0.000458, test loss: 0.000390\n",
      "epoch: 8, train loss: 0.000343, test loss: 0.000300\n",
      "epoch: 9, train loss: 0.000269, test loss: 0.000240\n",
      "epoch: 10, train loss: 0.000219, test loss: 0.000198\n"
     ]
    }
   ],
   "source": [
    "num_inputs = 200\n",
    "c2_Train_ls, c2_Test_ls = [], []\n",
    "for i in range(1,4):\n",
    "    net = class_LinearNet(num_inputs,i)\n",
    "    for param in net.parameters():\n",
    "        nn.init.normal_(param,mean=0, std= 0.01)\n",
    "    loss = nn.BCELoss()\n",
    "    optimizer = torch.optim.SGD(net.parameters(),lr=0.001)\n",
    "    train_ls, test_ls = train()\n",
    "    c2_Train_ls.append(train_ls)\n",
    "    c2_Test_ls.append(test_ls)"
   ]
  },
  {
   "cell_type": "code",
   "execution_count": 48,
   "metadata": {},
   "outputs": [
    {
     "data": {
      "image/png": "[encoded data removed]",
      "text/plain": [
       "<Figure size 432x288 with 1 Axes>"
      ]
     },
     "metadata": {},
     "output_type": "display_data"
    }
   ],
   "source": [
    "x = np.linspace(0,len(train_ls),len(train_ls))\n",
    "plt.plot(x,c2_Train_ls[0],label='ReLU',linewidth=1.5)\n",
    "plt.plot(x,c2_Train_ls[1],label='Tanh',linewidth=1.5)\n",
    "plt.plot(x,c2_Train_ls[2],label='LeakyReLU',linewidth=1.5)\n",
    "my_x_ticks = np.arange(0, 12, 2)\n",
    "plt.xticks(my_x_ticks)\n",
    "plt.xlabel('epoch')\n",
    "plt.ylabel('loss')\n",
    "plt.legend()\n",
    "plt.title('train_loss')\n",
    "plt.show()"
   ]
  },
  {
   "cell_type": "markdown",
   "metadata": {},
   "source": [
    "**多分类任务使用三种不同的激活函数**"
   ]
  },
  {
   "cell_type": "code",
   "execution_count": 2,
   "metadata": {},
   "outputs": [],
   "source": [
    "#生成数据\n",
    "\n",
    "#下载MNIST手写数字数据集\n",
    "train_dataset = torchvision.datasets.MNIST(root='./Datasets/MNIST', train=True, transform=transforms.ToTensor(),download=True)\n",
    "test_dataset = torchvision.datasets.MNIST(root='./Datasets/MNIST', train=False, transform = transforms.ToTensor(),download=True)\n",
    "\n",
    "train_loader = torch.utils.data.DataLoader(train_dataset, batch_size=32, shuffle=True)\n",
    "test_loader = torch.utils.data.DataLoader(test_dataset, batch_size=32, shuffle=False)"
   ]
  },
  {
   "cell_type": "code",
   "execution_count": 3,
   "metadata": {},
   "outputs": [],
   "source": [
    "#定义模型参数\n",
    "num_inputs, num_outputs, num_hiddens = 784, 10, 100\n",
    "\n",
    "W1 = torch.tensor(np.random.normal(0, 0.01, (num_inputs, num_hiddens)), dtype=torch.float)\n",
    "b1 = torch.zeros(num_hiddens, dtype = torch.float)\n",
    "W2 = torch.tensor(np.random.normal(0, 0.01, (num_hiddens, num_outputs)), dtype=torch.float)\n",
    "b2 = torch.zeros(num_outputs,dtype=torch.float)\n",
    "\n",
    "params = [W1,b1,W2,b2]\n",
    "for param in params:\n",
    "    param.requires_grad_(requires_grad=True)"
   ]
  },
  {
   "cell_type": "code",
   "execution_count": 4,
   "metadata": {},
   "outputs": [],
   "source": [
    "#定义损失函数\n",
    "loss = nn.CrossEntropyLoss()"
   ]
  },
  {
   "cell_type": "code",
   "execution_count": 5,
   "metadata": {},
   "outputs": [],
   "source": [
    "#模型训练\n",
    "def train():\n",
    "    num_epochs = 20\n",
    "    train_ls, test_ls = [], []\n",
    "    for epoch in range(num_epochs):\n",
    "        ls, count = 0, 0\n",
    "        for X,y in train_loader:\n",
    "            X = X.reshape(-1,num_inputs)\n",
    "            l=loss(net(X),y).sum()\n",
    "            optimizer.zero_grad()\n",
    "            l.backward()\n",
    "            optimizer.step()\n",
    "            ls += l.item()\n",
    "            count += y.shape[0]\n",
    "        train_ls.append(ls/count)\n",
    "        ls, count = 0, 0\n",
    "        for X,y in test_loader:\n",
    "            X = X.reshape(-1,num_inputs)\n",
    "            l=loss(net(X),y).sum()\n",
    "            ls += l.item()\n",
    "            count += y.shape[0]\n",
    "        test_ls.append(ls/count)\n",
    "        \n",
    "        print('epoch: %d, train loss: %f, test loss: %f'%(epoch+1,train_ls[-1],test_ls[-1]))\n",
    "    return train_ls,test_ls"
   ]
  },
  {
   "cell_type": "markdown",
   "metadata": {},
   "source": [
    "* LeakReLU"
   ]
  },
  {
   "cell_type": "code",
   "execution_count": 14,
   "metadata": {},
   "outputs": [],
   "source": [
    "#定义网络\n",
    "class muti_class_LinearNet(nn.Module):\n",
    "    def __init__(self,num_inputs, num_outputs, num_hiddens):\n",
    "        super(muti_class_LinearNet,self).__init__()\n",
    "        self.linear1 = nn.Linear(num_inputs,num_hiddens)\n",
    "        self.leakrelu = nn.functional.leaky_relu\n",
    "        self.linear2 = nn.Linear(num_hiddens,num_outputs)\n",
    "    \n",
    "    def forward(self,x):\n",
    "        x = self.linear1(x)\n",
    "        x = self.leakrelu(x,0.2)\n",
    "        x = self.linear2(x)\n",
    "        y = self.leakrelu(x,0.2)\n",
    "        return y\n",
    "    \n",
    "net = muti_class_LinearNet(num_inputs, num_outputs, num_hiddens)\n",
    "for param in net.parameters():\n",
    "    nn.init.normal_(param,mean=0, std= 0.01)"
   ]
  },
  {
   "cell_type": "code",
   "execution_count": 9,
   "metadata": {},
   "outputs": [],
   "source": [
    "#定义优化器\n",
    "optimizer = torch.optim.SGD(net.parameters(),lr = 0.001)"
   ]
  },
  {
   "cell_type": "code",
   "execution_count": 10,
   "metadata": {},
   "outputs": [
    {
     "name": "stdout",
     "output_type": "stream",
     "text": [
      "epoch: 1, train loss: 0.071735, test loss: 0.071522\n",
      "epoch: 2, train loss: 0.070664, test loss: 0.069555\n",
      "epoch: 3, train loss: 0.066870, test loss: 0.063144\n",
      "epoch: 4, train loss: 0.057366, test loss: 0.050314\n",
      "epoch: 5, train loss: 0.043777, test loss: 0.036948\n",
      "epoch: 6, train loss: 0.032888, test loss: 0.028407\n",
      "epoch: 7, train loss: 0.026279, test loss: 0.023359\n",
      "epoch: 8, train loss: 0.022265, test loss: 0.020200\n",
      "epoch: 9, train loss: 0.019665, test loss: 0.018075\n",
      "epoch: 10, train loss: 0.017865, test loss: 0.016562\n",
      "epoch: 11, train loss: 0.016547, test loss: 0.015444\n",
      "epoch: 12, train loss: 0.015542, test loss: 0.014543\n",
      "epoch: 13, train loss: 0.014749, test loss: 0.013838\n",
      "epoch: 14, train loss: 0.014107, test loss: 0.013260\n",
      "epoch: 15, train loss: 0.013580, test loss: 0.012801\n",
      "epoch: 16, train loss: 0.013138, test loss: 0.012407\n",
      "epoch: 17, train loss: 0.012763, test loss: 0.012069\n",
      "epoch: 18, train loss: 0.012440, test loss: 0.011771\n",
      "epoch: 19, train loss: 0.012157, test loss: 0.011512\n",
      "epoch: 20, train loss: 0.011910, test loss: 0.011294\n"
     ]
    }
   ],
   "source": [
    "train_ls,test_ls = train()"
   ]
  },
  {
   "cell_type": "code",
   "execution_count": 11,
   "metadata": {},
   "outputs": [
    {
     "data": {
      "image/png": "[encoded data removed]",
      "text/plain": [
       "<Figure size 432x288 with 1 Axes>"
      ]
     },
     "metadata": {},
     "output_type": "display_data"
    }
   ],
   "source": [
    "x = np.linspace(0,len(train_ls),len(train_ls))\n",
    "plt.plot(x,train_ls,label='train_loss',linewidth=1.5)\n",
    "plt.plot(x,test_ls,label='test_loss',linewidth=1.5)\n",
    "plt.xlabel('epoch')\n",
    "plt.ylabel('loss')\n",
    "plt.legend()\n",
    "plt.show()"
   ]
  },
  {
   "cell_type": "code",
   "execution_count": 12,
   "metadata": {},
   "outputs": [],
   "source": [
    "leak_train_ls, leak_test_ls = train_ls, test_ls"
   ]
  },
  {
   "cell_type": "markdown",
   "metadata": {},
   "source": [
    "* Relu"
   ]
  },
  {
   "cell_type": "code",
   "execution_count": 13,
   "metadata": {},
   "outputs": [],
   "source": [
    "#定义模型参数\n",
    "num_inputs, num_outputs, num_hiddens = 784, 10, 100\n",
    "\n",
    "W1 = torch.tensor(np.random.normal(0, 0.01, (num_inputs, num_hiddens)), dtype=torch.float)\n",
    "b1 = torch.zeros(num_hiddens, dtype = torch.float)\n",
    "W2 = torch.tensor(np.random.normal(0, 0.01, (num_hiddens, num_outputs)), dtype=torch.float)\n",
    "b2 = torch.zeros(num_outputs,dtype=torch.float)\n",
    "\n",
    "params = [W1,b1,W2,b2]\n",
    "for param in params:\n",
    "    param.requires_grad_(requires_grad=True)"
   ]
  },
  {
   "cell_type": "code",
   "execution_count": 15,
   "metadata": {},
   "outputs": [],
   "source": [
    "#定义网络\n",
    "class muti_class_LinearNet(nn.Module):\n",
    "    def __init__(self,num_inputs, num_outputs, num_hiddens):\n",
    "        super(muti_class_LinearNet,self).__init__()\n",
    "        self.linear1 = nn.Linear(num_inputs,num_hiddens)\n",
    "        self.relu = nn.ReLU()\n",
    "        self.linear2 = nn.Linear(num_hiddens,num_outputs)\n",
    "    \n",
    "    def forward(self,x):\n",
    "        x = self.linear1(x)\n",
    "        x = self.relu(x)\n",
    "        x = self.linear2(x)\n",
    "        y = self.relu(x)\n",
    "        return y\n",
    "    \n",
    "net = muti_class_LinearNet(num_inputs, num_outputs, num_hiddens)\n",
    "for param in net.parameters():\n",
    "    nn.init.normal_(param,mean=0, std= 0.01)"
   ]
  },
  {
   "cell_type": "code",
   "execution_count": 16,
   "metadata": {},
   "outputs": [],
   "source": [
    "#定义优化器\n",
    "optimizer = torch.optim.SGD(net.parameters(),lr = 0.001)"
   ]
  },
  {
   "cell_type": "code",
   "execution_count": 17,
   "metadata": {},
   "outputs": [
    {
     "name": "stdout",
     "output_type": "stream",
     "text": [
      "epoch: 1, train loss: 0.071734, test loss: 0.071547\n",
      "epoch: 2, train loss: 0.070850, test loss: 0.070035\n",
      "epoch: 3, train loss: 0.068227, test loss: 0.065785\n",
      "epoch: 4, train loss: 0.062105, test loss: 0.057685\n",
      "epoch: 5, train loss: 0.053591, test loss: 0.049241\n",
      "epoch: 6, train loss: 0.046330, test loss: 0.043083\n",
      "epoch: 7, train loss: 0.041306, test loss: 0.038948\n",
      "epoch: 8, train loss: 0.037869, test loss: 0.036043\n",
      "epoch: 9, train loss: 0.035384, test loss: 0.033880\n",
      "epoch: 10, train loss: 0.033497, test loss: 0.032198\n",
      "epoch: 11, train loss: 0.032009, test loss: 0.030847\n",
      "epoch: 12, train loss: 0.030806, test loss: 0.029766\n",
      "epoch: 13, train loss: 0.029824, test loss: 0.028865\n",
      "epoch: 14, train loss: 0.029014, test loss: 0.028132\n",
      "epoch: 15, train loss: 0.028338, test loss: 0.027517\n",
      "epoch: 16, train loss: 0.027768, test loss: 0.027000\n",
      "epoch: 17, train loss: 0.027283, test loss: 0.026559\n",
      "epoch: 18, train loss: 0.026866, test loss: 0.026186\n",
      "epoch: 19, train loss: 0.026504, test loss: 0.025838\n",
      "epoch: 20, train loss: 0.026186, test loss: 0.025554\n"
     ]
    }
   ],
   "source": [
    "train_ls,test_ls = train()"
   ]
  },
  {
   "cell_type": "code",
   "execution_count": 19,
   "metadata": {},
   "outputs": [
    {
     "data": {
      "image/png": "[encoded data removed]",
      "text/plain": [
       "<Figure size 432x288 with 1 Axes>"
      ]
     },
     "metadata": {},
     "output_type": "display_data"
    }
   ],
   "source": [
    "x = np.linspace(0,len(train_ls),len(train_ls))\n",
    "plt.plot(x,train_ls,label='train_loss',linewidth=1.5)\n",
    "plt.plot(x,test_ls,label='test_loss',linewidth=1.5)\n",
    "plt.xlabel('epoch')\n",
    "plt.ylabel('loss')\n",
    "plt.legend()\n",
    "plt.show()"
   ]
  },
  {
   "cell_type": "code",
   "execution_count": 18,
   "metadata": {},
   "outputs": [],
   "source": [
    "relu_train_ls, relu_test_ls = train_ls, test_ls"
   ]
  },
  {
   "cell_type": "markdown",
   "metadata": {},
   "source": [
    "* tanh"
   ]
  },
  {
   "cell_type": "code",
   "execution_count": 27,
   "metadata": {},
   "outputs": [],
   "source": [
    "#定义模型参数\n",
    "num_inputs, num_outputs, num_hiddens = 784, 10, 100\n",
    "\n",
    "W1 = torch.tensor(np.random.normal(0, 0.01, (num_inputs, num_hiddens)), dtype=torch.float)\n",
    "b1 = torch.zeros(num_hiddens, dtype = torch.float)\n",
    "W2 = torch.tensor(np.random.normal(0, 0.01, (num_hiddens, num_outputs)), dtype=torch.float)\n",
    "b2 = torch.zeros(num_outputs,dtype=torch.float)\n",
    "\n",
    "params = [W1,b1,W2,b2]\n",
    "for param in params:\n",
    "    param.requires_grad_(requires_grad=True)"
   ]
  },
  {
   "cell_type": "code",
   "execution_count": 28,
   "metadata": {},
   "outputs": [],
   "source": [
    "#定义网络\n",
    "class muti_class_LinearNet(nn.Module):\n",
    "    def __init__(self,num_inputs, num_outputs, num_hiddens):\n",
    "        super(muti_class_LinearNet,self).__init__()\n",
    "        self.linear1 = nn.Linear(num_inputs,num_hiddens)\n",
    "        self.tanh = torch.tanh\n",
    "        self.linear2 = nn.Linear(num_hiddens,num_outputs)\n",
    "    \n",
    "    def forward(self,x):\n",
    "        x = self.linear1(x)\n",
    "        x = self.tanh(x)\n",
    "        x = self.linear2(x)\n",
    "        y = self.tanh(x)\n",
    "        return y\n",
    "    \n",
    "net = muti_class_LinearNet(num_inputs, num_outputs, num_hiddens)\n",
    "for param in net.parameters():\n",
    "    nn.init.normal_(param,mean=0, std= 0.01)"
   ]
  },
  {
   "cell_type": "code",
   "execution_count": 29,
   "metadata": {},
   "outputs": [],
   "source": [
    "#定义优化器\n",
    "optimizer = torch.optim.SGD(net.parameters(),lr = 0.001)"
   ]
  },
  {
   "cell_type": "code",
   "execution_count": 30,
   "metadata": {},
   "outputs": [
    {
     "name": "stdout",
     "output_type": "stream",
     "text": [
      "epoch: 1, train loss: 0.071107, test loss: 0.069989\n",
      "epoch: 2, train loss: 0.067414, test loss: 0.064024\n",
      "epoch: 3, train loss: 0.060267, test loss: 0.056608\n",
      "epoch: 4, train loss: 0.054263, test loss: 0.051957\n",
      "epoch: 5, train loss: 0.050434, test loss: 0.048734\n",
      "epoch: 6, train loss: 0.047583, test loss: 0.046209\n",
      "epoch: 7, train loss: 0.045359, test loss: 0.044215\n",
      "epoch: 8, train loss: 0.043584, test loss: 0.042596\n",
      "epoch: 9, train loss: 0.042141, test loss: 0.041274\n",
      "epoch: 10, train loss: 0.040972, test loss: 0.040204\n",
      "epoch: 11, train loss: 0.040025, test loss: 0.039335\n",
      "epoch: 12, train loss: 0.039246, test loss: 0.038612\n",
      "epoch: 13, train loss: 0.038594, test loss: 0.038003\n",
      "epoch: 14, train loss: 0.038036, test loss: 0.037474\n",
      "epoch: 15, train loss: 0.037549, test loss: 0.037009\n",
      "epoch: 16, train loss: 0.037119, test loss: 0.036598\n",
      "epoch: 17, train loss: 0.036735, test loss: 0.036229\n",
      "epoch: 18, train loss: 0.036390, test loss: 0.035901\n",
      "epoch: 19, train loss: 0.036081, test loss: 0.035603\n",
      "epoch: 20, train loss: 0.035800, test loss: 0.035336\n"
     ]
    }
   ],
   "source": [
    "train_ls,test_ls = train()"
   ]
  },
  {
   "cell_type": "code",
   "execution_count": 32,
   "metadata": {},
   "outputs": [
    {
     "data": {
      "image/png": "[encoded data removed]",
      "text/plain": [
       "<Figure size 432x288 with 1 Axes>"
      ]
     },
     "metadata": {},
     "output_type": "display_data"
    }
   ],
   "source": [
    "x = np.linspace(0,len(train_ls),len(train_ls))\n",
    "plt.plot(x,train_ls,label='train_loss',linewidth=1.5)\n",
    "plt.plot(x,test_ls,label='test_loss',linewidth=1.5)\n",
    "plt.xlabel('epoch')\n",
    "plt.ylabel('loss')\n",
    "plt.legend()\n",
    "plt.show()"
   ]
  },
  {
   "cell_type": "code",
   "execution_count": 31,
   "metadata": {},
   "outputs": [],
   "source": [
    "tanh_train_ls,tanh_test_ls = train_ls, test_ls"
   ]
  },
  {
   "cell_type": "markdown",
   "metadata": {},
   "source": [
    "**三种激活函数对比**"
   ]
  },
  {
   "cell_type": "markdown",
   "metadata": {},
   "source": [
    "* 训练误差"
   ]
  },
  {
   "cell_type": "code",
   "execution_count": 40,
   "metadata": {},
   "outputs": [
    {
     "data": {
      "image/png": "[encoded data removed]",
      "text/plain": [
       "<Figure size 432x288 with 1 Axes>"
      ]
     },
     "metadata": {},
     "output_type": "display_data"
    }
   ],
   "source": [
    "x = np.linspace(0,len(train_ls),len(train_ls))\n",
    "plt.plot(x,relu_train_ls,label='relu',linewidth=1.5)\n",
    "plt.plot(x,leak_train_ls,label='leakrelu',linewidth=1.5)\n",
    "plt.plot(x,tanh_train_ls,label='tanh',linewidth=1.5)\n",
    "my_x_ticks = np.arange(0, 22, 2)\n",
    "plt.xticks(my_x_ticks)\n",
    "plt.xlabel('epoch')\n",
    "plt.ylabel('loss')\n",
    "plt.legend()\n",
    "plt.title('train_loss')\n",
    "plt.show()"
   ]
  },
  {
   "cell_type": "code",
   "execution_count": 42,
   "metadata": {},
   "outputs": [
    {
     "data": {
      "image/png": "[encoded data removed]",
      "text/plain": [
       "<Figure size 432x288 with 1 Axes>"
      ]
     },
     "metadata": {},
     "output_type": "display_data"
    }
   ],
   "source": [
    "x = np.linspace(0,len(test_ls),len(test_ls))\n",
    "plt.plot(x,relu_test_ls,label='relu',linewidth=1.5)\n",
    "plt.plot(x,leak_test_ls,label='leakrelu',linewidth=1.5)\n",
    "plt.plot(x,tanh_test_ls,label='tanh',linewidth=1.5)\n",
    "my_x_ticks = np.arange(0, 22, 2)\n",
    "plt.xticks(my_x_ticks)\n",
    "plt.xlabel('epoch')\n",
    "plt.ylabel('loss')\n",
    "plt.legend()\n",
    "plt.title('test_loss')\n",
    "plt.show()"
   ]
  }
 ],
 "metadata": {
  "kernelspec": {
   "display_name": "Python 3",
   "language": "python",
   "name": "python3"
  },
  "language_info": {
   "codemirror_mode": {
    "name": "ipython",
    "version": 3
   },
   "file_extension": ".py",
   "mimetype": "text/x-python",
   "name": "python",
   "nbconvert_exporter": "python",
   "pygments_lexer": "ipython3",
   "version": "3.6.5"
  }
 },
 "nbformat": 4,
 "nbformat_minor": 2
}
