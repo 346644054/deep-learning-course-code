{
 "cells": [
  {
   "cell_type": "markdown",
   "metadata": {},
   "source": [
    "* 分析实验结果并绘制训练集和测试集的loss曲线"
   ]
  },
  {
   "cell_type": "markdown",
   "metadata": {},
   "source": [
    "**回归任务**"
   ]
  },
  {
   "cell_type": "code",
   "execution_count": 1,
   "metadata": {},
   "outputs": [],
   "source": [
    "import torch\n",
    "import numpy as np\n",
    "import matplotlib.pyplot as plt\n",
    "import torchvision\n",
    "import torchvision.transforms as transforms\n",
    "%matplotlib inline"
   ]
  },
  {
   "cell_type": "code",
   "execution_count": 2,
   "metadata": {},
   "outputs": [],
   "source": [
    "#生成数据\n",
    "features = torch.rand(10000, 500)\n",
    "labels = (0.0056 * features).sum(dim=1) + 0.028\n",
    "labels += torch.tensor(np.random.normal(0,0.001,size=labels.size()), dtype=torch.float)\n",
    "\n",
    "train_features = features[:7000,:]\n",
    "train_labels = labels[:7000]\n",
    "\n",
    "test_features = features[7000:,:]\n",
    "test_labels = labels[7000:]"
   ]
  },
  {
   "cell_type": "code",
   "execution_count": 3,
   "metadata": {},
   "outputs": [],
   "source": [
    "#生成数据迭代器\n",
    "train_dataset = torch.utils.data.TensorDataset(train_features, train_labels)\n",
    "test_dataset = torch.utils.data.TensorDataset(test_features, test_labels)\n",
    "train_iter = torch.utils.data.DataLoader(train_dataset, batch_size=100, shuffle=True)\n",
    "test_iter = torch.utils.data.DataLoader(test_dataset, batch_size=100, shuffle=False)"
   ]
  },
  {
   "cell_type": "code",
   "execution_count": 27,
   "metadata": {},
   "outputs": [],
   "source": [
    "#参数初始化\n",
    "# w = torch.tensor(np.random.normal(0,0.01,(500,1)), dtype=torch.float)\n",
    "# b = torch.zeros(1, dtype=torch.float)\n",
    "# w.requires_grad_(requires_grad=True)\n",
    "# b.requires_grad_(requires_grad=True)\n",
    "num_inputs, num_outputs, num_hiddens = 500, 1, 250\n",
    "W1 = torch.tensor(np.random.normal(0, 0.01, (num_inputs, num_hiddens)), dtype=torch.float)\n",
    "b1 = torch.zeros(num_hiddens, dtype = torch.float)\n",
    "W2 = torch.tensor(np.random.normal(0, 0.01, (num_hiddens, num_outputs)), dtype=torch.float)\n",
    "b2 = torch.zeros(num_outputs,dtype=torch.float)\n",
    "\n",
    "params = [W1,b1,W2,b2]\n",
    "for param in params:\n",
    "    param.requires_grad_(requires_grad=True)"
   ]
  },
  {
   "cell_type": "code",
   "execution_count": 19,
   "metadata": {},
   "outputs": [],
   "source": [
    "#定义激活函数\n",
    "def sigmoid(x):\n",
    "    return 1.0/(1.0+torch.exp(-x))"
   ]
  },
  {
   "cell_type": "code",
   "execution_count": 20,
   "metadata": {},
   "outputs": [],
   "source": [
    "#定义网络\n",
    "# def net(X,w,b):\n",
    "#     return torch.mm(X,w) +b\n",
    "\n",
    "def net(X):\n",
    "    X = X.view((-1, num_inputs))\n",
    "    H = sigmoid(torch.matmul(X, W1) + b1)\n",
    "    return torch.matmul(H, W2) + b2"
   ]
  },
  {
   "cell_type": "code",
   "execution_count": 21,
   "metadata": {},
   "outputs": [],
   "source": [
    "#定义损失函数\n",
    "def squared_loss(y_hat,y):\n",
    "    return (y_hat-y.view(y_hat.size()))**2/2  #这里修改了\n",
    "loss = squared_loss"
   ]
  },
  {
   "cell_type": "code",
   "execution_count": 22,
   "metadata": {},
   "outputs": [],
   "source": [
    "#定义优化方法\n",
    "def sgd(params,lr,batch_size):\n",
    "    for param in params:\n",
    "        param.data -= lr*param.grad/batch_size\n",
    "\n",
    "optimizer=sgd"
   ]
  },
  {
   "cell_type": "code",
   "execution_count": 28,
   "metadata": {},
   "outputs": [],
   "source": [
    "def train(train_features,train_labels,test_features,test_labels,train_iter,loss,num_epochs,batch_size=100,lr=0.001):\n",
    "    train_ls, test_ls = [], []\n",
    "    for epoch in range(num_epochs):\n",
    "        ls = 0\n",
    "        count = 0\n",
    "        for X, y  in train_iter:\n",
    "            l = loss(net(X),y).sum()\n",
    "            l.backward()\n",
    "            sgd([W1,b1,W2,b2],lr,batch_size)\n",
    "            W1.grad.data.zero_()\n",
    "            b1.grad.data.zero_()\n",
    "            W2.grad.data.zero_()\n",
    "            b2.grad.data.zero_()\n",
    "            ls += l.item()\n",
    "            count += y.shape[0]\n",
    "        train_ls.append(ls/count)\n",
    "        ls = 0\n",
    "        count = 0\n",
    "        # 每一个epoch测试一次\n",
    "        for X,y in test_iter:\n",
    "            l = loss(net(X),y).sum()\n",
    "            ls += l.item()\n",
    "            count += y.shape[0]\n",
    "        test_ls.append(ls/count)        \n",
    "        print('epoch %d,train loss: %f, test loss: %f'%(epoch+1,train_ls[-1],test_ls[-1]))\n",
    "    return train_ls, test_ls"
   ]
  },
  {
   "cell_type": "code",
   "execution_count": 29,
   "metadata": {},
   "outputs": [
    {
     "name": "stdout",
     "output_type": "stream",
     "text": [
      "epoch 1,train loss: 0.669051, test loss: 0.410614\n",
      "epoch 2,train loss: 0.273060, test loss: 0.167559\n",
      "epoch 3,train loss: 0.111523, test loss: 0.068504\n",
      "epoch 4,train loss: 0.045723, test loss: 0.028196\n",
      "epoch 5,train loss: 0.018955, test loss: 0.011813\n",
      "epoch 6,train loss: 0.008082, test loss: 0.005168\n",
      "epoch 7,train loss: 0.003670, test loss: 0.002475\n",
      "epoch 8,train loss: 0.001882, test loss: 0.001384\n",
      "epoch 9,train loss: 0.001156, test loss: 0.000942\n",
      "epoch 10,train loss: 0.000862, test loss: 0.000764\n"
     ]
    }
   ],
   "source": [
    "train_ls, test_ls = train(train_features,train_labels,test_features,test_labels,train_iter,loss,10,100,0.0001)"
   ]
  },
  {
   "cell_type": "code",
   "execution_count": 30,
   "metadata": {},
   "outputs": [
    {
     "data": {
      "image/png": "[encoded data removed]",
      "text/plain": [
       "<Figure size 432x288 with 1 Axes>"
      ]
     },
     "metadata": {},
     "output_type": "display_data"
    }
   ],
   "source": [
    "x = np.linspace(0,len(train_ls),len(train_ls))\n",
    "plt.plot(x,train_ls,label='train_loss',linewidth=1.5)\n",
    "plt.plot(x,test_ls,label='test_loss',linewidth=1.5)\n",
    "plt.xlabel('epoch')\n",
    "plt.ylabel('loss')\n",
    "plt.legend()\n",
    "plt.show()"
   ]
  },
  {
   "cell_type": "markdown",
   "metadata": {},
   "source": [
    "**二分类问题**"
   ]
  },
  {
   "cell_type": "code",
   "execution_count": 37,
   "metadata": {},
   "outputs": [],
   "source": [
    "#生成数据\n",
    "x1 = torch.tensor(np.random.normal(2,1,(10000,200)), dtype=torch.float)\n",
    "x1_labels = torch.ones((10000))\n",
    "x2 = torch.tensor(np.random.normal(-2,1,(10000,200)), dtype=torch.float)\n",
    "x2_labels = torch.zeros((10000))\n",
    "class_2_features = torch.cat((x1,x2),dim=0)\n",
    "class_2_labels = torch.cat((x1_labels,x2_labels))\n",
    "index = [i for i in range(len(class_2_labels))]\n",
    "np.random.shuffle(index)\n",
    "train_class_2_features = class_2_features[index[:14000],:]\n",
    "test_class_2_features = class_2_features[index[14000:],:]\n",
    "train_class_2_labels = class_2_labels[index[:14000]]\n",
    "test_class_2_labels = class_2_labels[index[14000:]]"
   ]
  },
  {
   "cell_type": "code",
   "execution_count": 260,
   "metadata": {},
   "outputs": [],
   "source": [
    "#生成数据迭代器\n",
    "train_dataset = torch.utils.data.TensorDataset(train_class_2_features, train_class_2_labels)\n",
    "test_dataset = torch.utils.data.TensorDataset(test_class_2_features, test_class_2_labels)\n",
    "train_iter = torch.utils.data.DataLoader(train_dataset, batch_size=100, shuffle=True)\n",
    "test_iter = torch.utils.data.DataLoader(test_dataset, batch_size=100, shuffle=False)"
   ]
  },
  {
   "cell_type": "code",
   "execution_count": 306,
   "metadata": {},
   "outputs": [],
   "source": [
    "#定义模型参数\n",
    "num_inputs, num_outputs, num_hiddens = 200, 1, 100\n",
    "\n",
    "W1 = torch.tensor(np.random.normal(0, 0.01, (num_inputs, num_hiddens)), dtype=torch.float)\n",
    "b1 = torch.zeros(num_hiddens, dtype = torch.float)\n",
    "W2 = torch.tensor(np.random.normal(0, 0.01, (num_hiddens, num_outputs)), dtype=torch.float)\n",
    "b2 = torch.zeros(num_outputs,dtype=torch.float)\n",
    "\n",
    "params = [W1,b1,W2,b2]\n",
    "for param in params:\n",
    "    param.requires_grad_(requires_grad=True)"
   ]
  },
  {
   "cell_type": "code",
   "execution_count": 262,
   "metadata": {},
   "outputs": [],
   "source": [
    "#定义激活函数\n",
    "def relu(X):\n",
    "    return torch.max(input=X, other=torch.tensor(0.0))"
   ]
  },
  {
   "cell_type": "code",
   "execution_count": 263,
   "metadata": {},
   "outputs": [],
   "source": [
    "#定义sigmoid函数\n",
    "def sigmoid(X):\n",
    "    return 1/(1+torch.exp(-X))"
   ]
  },
  {
   "cell_type": "code",
   "execution_count": 264,
   "metadata": {},
   "outputs": [],
   "source": [
    "#定义网络\n",
    "def net(X):\n",
    "    X = X.view((-1, num_inputs))\n",
    "    H = relu(torch.matmul(X, W1) + b1)\n",
    "    return sigmoid(torch.matmul(H, W2) + b2)"
   ]
  },
  {
   "cell_type": "code",
   "execution_count": 265,
   "metadata": {},
   "outputs": [],
   "source": [
    "#定义损失函数\n",
    "def BCE_loss(y_hat,y):\n",
    "    return y*(-torch.log(y_hat))+(1-y)*(-torch.log(1-y_hat))"
   ]
  },
  {
   "cell_type": "code",
   "execution_count": 266,
   "metadata": {},
   "outputs": [],
   "source": [
    "#定义优化方法\n",
    "def sgd(params,lr,batch_size):\n",
    "    for param in params:\n",
    "        param.data -= lr*param.grad/batch_size"
   ]
  },
  {
   "cell_type": "code",
   "execution_count": 307,
   "metadata": {},
   "outputs": [],
   "source": [
    "def train():\n",
    "    n_epoch = 20\n",
    "    batch_size = 100\n",
    "    loss = BCE_loss\n",
    "    lr = 0.001\n",
    "    train_ls, test_ls = [], []\n",
    "    ls = 0\n",
    "    count = 0\n",
    "    for epoch in range(n_epoch):\n",
    "        for X,y in train_iter:\n",
    "            l = loss(net(X),y.view(-1,1)).sum()\n",
    "            l.backward()\n",
    "            sgd([W1,b1,W2,b2],lr,batch_size)\n",
    "            W1.grad.data.zero_()\n",
    "            b1.grad.data.zero_()\n",
    "            W2.grad.data.zero_()\n",
    "            b2.grad.data.zero_()\n",
    "            ls += l.item()\n",
    "            count += y.shape[0]\n",
    "        train_ls.append(ls/count)\n",
    "        ls = 0\n",
    "        count = 0\n",
    "        for X,y in test_iter:\n",
    "            l = loss(net(X),y.view(-1,1)).sum()\n",
    "            ls += l.item()\n",
    "            count += y.shape[0]\n",
    "        test_ls.append(ls/count)\n",
    "        print('epoch %d,train loss: %f, test loss: %f'%(epoch+1,train_ls[-1],test_ls[-1]))\n",
    "    return train_ls, test_ls     "
   ]
  },
  {
   "cell_type": "code",
   "execution_count": 308,
   "metadata": {},
   "outputs": [
    {
     "name": "stdout",
     "output_type": "stream",
     "text": [
      "epoch 1,train loss: 0.664265, test loss: 0.627482\n",
      "epoch 2,train loss: 0.594319, test loss: 0.522567\n",
      "epoch 3,train loss: 0.473452, test loss: 0.375312\n",
      "epoch 4,train loss: 0.325443, test loss: 0.236442\n",
      "epoch 5,train loss: 0.202503, test loss: 0.145633\n",
      "epoch 6,train loss: 0.126517, test loss: 0.094717\n",
      "epoch 7,train loss: 0.084063, test loss: 0.066024\n",
      "epoch 8,train loss: 0.059743, test loss: 0.048852\n",
      "epoch 9,train loss: 0.044898, test loss: 0.037876\n",
      "epoch 10,train loss: 0.035239, test loss: 0.030449\n",
      "epoch 11,train loss: 0.028602, test loss: 0.025178\n",
      "epoch 12,train loss: 0.023833, test loss: 0.021290\n",
      "epoch 13,train loss: 0.020279, test loss: 0.018330\n",
      "epoch 14,train loss: 0.017549, test loss: 0.016016\n",
      "epoch 15,train loss: 0.015399, test loss: 0.014167\n",
      "epoch 16,train loss: 0.013671, test loss: 0.012662\n",
      "epoch 17,train loss: 0.012256, test loss: 0.011417\n",
      "epoch 18,train loss: 0.011081, test loss: 0.010373\n",
      "epoch 19,train loss: 0.010091, test loss: 0.009486\n",
      "epoch 20,train loss: 0.009248, test loss: 0.008726\n"
     ]
    }
   ],
   "source": [
    "train_ls, test_ls = train()"
   ]
  },
  {
   "cell_type": "code",
   "execution_count": 309,
   "metadata": {},
   "outputs": [
    {
     "data": {
      "image/png": "[encoded data removed]",
      "text/plain": [
       "<Figure size 432x288 with 1 Axes>"
      ]
     },
     "metadata": {},
     "output_type": "display_data"
    }
   ],
   "source": [
    "x = np.linspace(0,len(train_ls),len(train_ls))\n",
    "plt.plot(x,train_ls,label='train_loss',linewidth=1.5)\n",
    "plt.plot(x,test_ls,label='test_loss',linewidth=1.5)\n",
    "plt.xlabel('epoch')\n",
    "plt.ylabel('loss')\n",
    "plt.legend()\n",
    "plt.show()"
   ]
  },
  {
   "cell_type": "markdown",
   "metadata": {},
   "source": [
    "**多分类任务**"
   ]
  },
  {
   "cell_type": "code",
   "execution_count": 315,
   "metadata": {},
   "outputs": [],
   "source": [
    "#生成数据\n",
    "\n",
    "#下载MNIST手写数字数据集\n",
    "train_dataset = torchvision.datasets.MNIST(root='./Datasets/MNIST', train=True, transform=transforms.ToTensor(),download=True)\n",
    "test_dataset = torchvision.datasets.MNIST(root='./Datasets/MNIST', train=False, transform = transforms.ToTensor(),download=True)\n",
    "\n",
    "train_loader = torch.utils.data.DataLoader(train_dataset, batch_size=32, shuffle=True)\n",
    "test_loader = torch.utils.data.DataLoader(test_dataset, batch_size=32, shuffle=False)"
   ]
  },
  {
   "cell_type": "code",
   "execution_count": 344,
   "metadata": {},
   "outputs": [],
   "source": [
    "#定义模型参数\n",
    "num_inputs, num_outputs, num_hiddens = 784, 10, 100\n",
    "\n",
    "W1 = torch.tensor(np.random.normal(0, 0.01, (num_inputs, num_hiddens)), dtype=torch.float)\n",
    "b1 = torch.zeros(num_hiddens, dtype = torch.float)\n",
    "W2 = torch.tensor(np.random.normal(0, 0.01, (num_hiddens, num_outputs)), dtype=torch.float)\n",
    "b2 = torch.zeros(num_outputs,dtype=torch.float)\n",
    "\n",
    "params = [W1,b1,W2,b2]\n",
    "for param in params:\n",
    "    param.requires_grad_(requires_grad=True)"
   ]
  },
  {
   "cell_type": "code",
   "execution_count": 317,
   "metadata": {},
   "outputs": [],
   "source": [
    "#定义激活函数\n",
    "def relu(X):\n",
    "    return torch.max(input=X, other=torch.tensor(0.0))"
   ]
  },
  {
   "cell_type": "code",
   "execution_count": 318,
   "metadata": {},
   "outputs": [],
   "source": [
    "def softmax(X):\n",
    "    X_exp = X.exp()\n",
    "    partition = X_exp.sum(dim=1, keepdim=True)\n",
    "    return X_exp / partition"
   ]
  },
  {
   "cell_type": "code",
   "execution_count": 319,
   "metadata": {},
   "outputs": [],
   "source": [
    "# 定义网络\n",
    "def net(X):\n",
    "    X = X.view((-1, num_inputs))\n",
    "    H = relu(torch.matmul(X, W1) + b1)\n",
    "    return softmax(torch.matmul(H, W2) + b2)"
   ]
  },
  {
   "cell_type": "code",
   "execution_count": 331,
   "metadata": {},
   "outputs": [],
   "source": [
    "#定义损失函数\n",
    "def CrossEntropyLoss(y_hat,y):\n",
    "    return - torch.log(y_hat.gather(1, y))"
   ]
  },
  {
   "cell_type": "code",
   "execution_count": 321,
   "metadata": {},
   "outputs": [],
   "source": [
    "#定义优化方法\n",
    "def sgd(params,lr,batch_size):\n",
    "    for param in params:\n",
    "        param.data -= lr*param.grad/batch_size"
   ]
  },
  {
   "cell_type": "code",
   "execution_count": 341,
   "metadata": {},
   "outputs": [],
   "source": [
    "def train():\n",
    "    n_epoch = 20\n",
    "    batch_size = 32\n",
    "    loss = CrossEntropyLoss\n",
    "    lr = 0.001\n",
    "    train_ls, test_ls = [], []\n",
    "    ls = 0\n",
    "    count = 0\n",
    "    for epoch in range(n_epoch):\n",
    "        for X,y in train_loader:\n",
    "            l = loss(net(X),y.view(-1,1)).sum()\n",
    "            l.backward()\n",
    "            sgd([W1,b1,W2,b2],lr,batch_size)\n",
    "            W1.grad.data.zero_()\n",
    "            b1.grad.data.zero_()\n",
    "            W2.grad.data.zero_()\n",
    "            b2.grad.data.zero_()\n",
    "            ls += l.item()\n",
    "            count += y.shape[0]\n",
    "        train_ls.append(ls/count)\n",
    "        ls = 0\n",
    "        count = 0\n",
    "        for X,y in test_loader:\n",
    "            l = loss(net(X),y.view(-1,1)).sum()\n",
    "            ls += l.item()\n",
    "            count += y.shape[0]\n",
    "        test_ls.append(ls/count)\n",
    "        print('epoch %d,train loss: %f, test loss: %f'%(epoch+1,train_ls[-1],test_ls[-1]))\n",
    "    return train_ls, test_ls"
   ]
  },
  {
   "cell_type": "code",
   "execution_count": 345,
   "metadata": {},
   "outputs": [
    {
     "name": "stdout",
     "output_type": "stream",
     "text": [
      "epoch 1,train loss: 2.289901, test loss: 2.271932\n",
      "epoch 2,train loss: 2.234753, test loss: 2.157750\n",
      "epoch 3,train loss: 2.042238, test loss: 1.835009\n",
      "epoch 4,train loss: 1.638237, test loss: 1.346576\n",
      "epoch 5,train loss: 1.199774, test loss: 0.995926\n",
      "epoch 6,train loss: 0.922588, test loss: 0.798780\n",
      "epoch 7,train loss: 0.762769, test loss: 0.680142\n",
      "epoch 8,train loss: 0.663121, test loss: 0.603070\n",
      "epoch 9,train loss: 0.596067, test loss: 0.548588\n",
      "epoch 10,train loss: 0.547769, test loss: 0.507976\n",
      "epoch 11,train loss: 0.511289, test loss: 0.476890\n",
      "epoch 12,train loss: 0.482683, test loss: 0.452200\n",
      "epoch 13,train loss: 0.459765, test loss: 0.431764\n",
      "epoch 14,train loss: 0.440859, test loss: 0.415598\n",
      "epoch 15,train loss: 0.425161, test loss: 0.401522\n",
      "epoch 16,train loss: 0.411809, test loss: 0.389653\n",
      "epoch 17,train loss: 0.400415, test loss: 0.379772\n",
      "epoch 18,train loss: 0.390542, test loss: 0.370656\n",
      "epoch 19,train loss: 0.381750, test loss: 0.362970\n",
      "epoch 20,train loss: 0.374070, test loss: 0.356108\n"
     ]
    }
   ],
   "source": [
    "train_ls, test_ls = train()"
   ]
  },
  {
   "cell_type": "code",
   "execution_count": 346,
   "metadata": {},
   "outputs": [
    {
     "data": {
      "image/png": "[encoded data removed]",
      "text/plain": [
       "<Figure size 432x288 with 1 Axes>"
      ]
     },
     "metadata": {},
     "output_type": "display_data"
    }
   ],
   "source": [
    "x = np.linspace(0,len(train_ls),len(train_ls))\n",
    "plt.plot(x,train_ls,label='train_loss',linewidth=1.5)\n",
    "plt.plot(x,test_ls,label='test_loss',linewidth=1.5)\n",
    "plt.xlabel('epoch')\n",
    "plt.ylabel('loss')\n",
    "plt.legend()\n",
    "plt.show()"
   ]
  }
 ],
 "metadata": {
  "kernelspec": {
   "display_name": "Python 3",
   "language": "python",
   "name": "python3"
  },
  "language_info": {
   "codemirror_mode": {
    "name": "ipython",
    "version": 3
   },
   "file_extension": ".py",
   "mimetype": "text/x-python",
   "name": "python",
   "nbconvert_exporter": "python",
   "pygments_lexer": "ipython3",
   "version": "3.6.5"
  }
 },
 "nbformat": 4,
 "nbformat_minor": 2
}
